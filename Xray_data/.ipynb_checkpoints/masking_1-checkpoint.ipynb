{
 "cells": [
  {
   "cell_type": "markdown",
   "id": "e047df9e",
   "metadata": {},
   "source": [
    "\n",
    "The masking for the autoencoders heretofore (07/16/2021, autoencoder7) has been OK for most BALs and non-BALs.  But it seems to struggle with high-blueshift objects and sometimes spectra with absorption that isn't between ~1485-1546Å.  The spectra cover 1443-2961Å; there are ~90000 objects from 1.6 < z < 2.1.  Reconstructions would probably improve if we included more information blueward of CIV.\n",
    "\n",
    "Before extending the wavelength range, see if more thoughtful masking will help.  The problem isn't so much how to determine a mask for each spectrum -- it's how to apply it in the autoencoder, since it's not clear how to \"turn off\" different input neurons for each spectrum in Keras.\n",
    "\n",
    "---\n",
    "\n",
    "First just try to get the masking right\n"
   ]
  },
  {
   "cell_type": "code",
   "execution_count": 1,
   "id": "013eb5b6",
   "metadata": {},
   "outputs": [],
   "source": [
    "import matplotlib.pyplot as plt\n",
    "from astropy.io import fits\n",
    "from astropy.io.fits import Column\n",
    "from astropy.table import Table\n",
    "import numpy as np\n",
    "import pandas as pd"
   ]
  },
  {
   "cell_type": "code",
   "execution_count": 3,
   "id": "b2d81e6d",
   "metadata": {},
   "outputs": [
    {
     "data": {
      "text/plain": [
       "('1.19.1', '1.12.0', '2.1.6-tf')"
      ]
     },
     "execution_count": 3,
     "metadata": {},
     "output_type": "execute_result"
    }
   ],
   "source": [
    "from tensorflow import keras\n",
    "import tensorflow as tf\n",
    "np.__version__, tf.__version__, keras.__version__"
   ]
  },
  {
   "cell_type": "code",
   "execution_count": null,
   "id": "42a30841",
   "metadata": {},
   "outputs": [],
   "source": []
  }
 ],
 "metadata": {
  "kernelspec": {
   "display_name": "Python 3",
   "language": "python",
   "name": "python3"
  },
  "language_info": {
   "codemirror_mode": {
    "name": "ipython",
    "version": 3
   },
   "file_extension": ".py",
   "mimetype": "text/x-python",
   "name": "python",
   "nbconvert_exporter": "python",
   "pygments_lexer": "ipython3",
   "version": "3.8.8"
  }
 },
 "nbformat": 4,
 "nbformat_minor": 5
}
