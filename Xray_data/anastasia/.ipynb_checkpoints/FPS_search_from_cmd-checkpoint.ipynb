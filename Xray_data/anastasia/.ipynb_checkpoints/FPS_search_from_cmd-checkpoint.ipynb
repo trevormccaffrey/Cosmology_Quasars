{
 "cells": [
  {
   "cell_type": "code",
   "execution_count": 74,
   "metadata": {},
   "outputs": [],
   "source": [
    "import pandas as pd\n",
    "\n",
    "dfDR16 = pd.read_csv(r'C:\\Users\\aopie\\Downloads\\DR16Q_v4.csv')\n",
    "headers = ['SDSS_NAME','RA','DEC','4','5','6','7','8','9','10','11','12','13','14','15','16','17','18','19','20','21','22','23','24','25','26','27','28','29','30','31','32','33','34','35','36','37','38','39','40','41','42','43','44','45','46','47','48','49','50','51','52','53','54','55','56','57','58','59','60','61','62','63','64','65','66','67','68','69','70','71','72','73','74','75','76','77','78','79','80','81','82','83','84','85','86','87','88','89','90','91','92','93','94','95','96','97','98','99','100','101','102','103','104','105','106','107','108','109','110','111','112','113','114','115','116','117','118','119','120','121','122','123','124','125','126','127','128','129','130','131','132','133','134','135','136','137','138','139','140','141','142','143','144','145','146','147','148','149','150','151','152','153','154','155','156','157','158','159','160','161','162','163','164','165','166','167','168','169','170','171','172','173','174','175','176','177','178','179','180','181','182','183']\n",
    "dfDR16.columns = headers\n",
    "#data = dfDR16[['RA', 'DEC']].copy()\n",
    "\n",
    "url1 = 'https:////cxcfps.cfa.harvard.edu//cda//footprint//cdaview.html#Footprints|filterText%3D%24filterTypes%3D|query_string=&posfilename=&poslocalname=&inst=ACIS-S&inst=ACIS-I&inst=HRC-S&inst=HRC-I&RA='\n",
    "url2 = '&Dec='\n",
    "url3 = '&Radius=0.000556&Obsids=&preview=1&output_size=256&cutout_size=12.8|ra=&dec=&sr=&level=&image=&inst=ACIS-S%2CACIS-I%2CHRC-S%2CHRC-I&ds='"
   ]
  },
  {
   "cell_type": "code",
   "execution_count": null,
   "metadata": {},
   "outputs": [],
   "source": [
    "#file = open('C:/Users/aopie/Downloads/curlfile.txt','w')\n",
    "\n",
    "for row in dfDR16.iterrows(): #iterate through each row and search FPS using coordinates\n",
    "    #RA = data.get('RA')\n",
    "    #DEC = data.get('DEC')\n",
    "    RA = dfDR16['RA'].values\n",
    "    DEC = dfDR16['DEC'].values\n",
    "    \n",
    "    fullurl = url1 + RA + url2 + DEC + url3\n",
    "    print(\"start\" + '\"\"' + fullurl) #will likely need to be changed from a print command\n",
    "    #file.write()\n",
    "\n",
    "#file.close()\n",
    "print('matching complete')"
   ]
  },
  {
   "cell_type": "markdown",
   "metadata": {},
   "source": [
    "curltext = 'curl -T C:/Users/aopie/Downloads/DR16Q_v4.csv https://cxcfps.cfa.harvard.edu/cda/footprint/cdaview.html'\n",
    "#file = open('C:/Users/aopie/Downloads/curlfile.txt','w')\n",
    "url = 'https://cxcfps.cfa.harvard.edu/cda/footprint/cdaview.html'\n",
    "\n",
    "for index in dfDR16:\n",
    "    #objMask = (dfDR16['rows']==rows)\n",
    "    RA = dfDR16['RA'].values\n",
    "    DEC = dfDR16['DEC'].values\n",
    "    r = requests.post(url, data={'RA':RA, 'DEC':DEC})\n",
    "    \n",
    "    #file.write(r)\n",
    "    print(r)\n",
    "    \n",
    "#file.close()\n",
    "print('success!')"
   ]
  }
 ],
 "metadata": {
  "kernelspec": {
   "display_name": "Python 3",
   "language": "python",
   "name": "python3"
  },
  "language_info": {
   "codemirror_mode": {
    "name": "ipython",
    "version": 3
   },
   "file_extension": ".py",
   "mimetype": "text/x-python",
   "name": "python",
   "nbconvert_exporter": "python",
   "pygments_lexer": "ipython3",
   "version": "3.6.10"
  }
 },
 "nbformat": 4,
 "nbformat_minor": 4
}
