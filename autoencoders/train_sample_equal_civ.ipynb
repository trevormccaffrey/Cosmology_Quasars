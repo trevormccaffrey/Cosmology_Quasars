{
 "cells": [
  {
   "cell_type": "code",
   "execution_count": 2,
   "id": "a4e8cc16",
   "metadata": {},
   "outputs": [],
   "source": [
    "import matplotlib.pyplot as plt\n",
    "import numpy as np\n",
    "import pandas as pd\n",
    "from astropy.table import Table"
   ]
  },
  {
   "cell_type": "code",
   "execution_count": 3,
   "id": "53b1f059",
   "metadata": {},
   "outputs": [
    {
     "name": "stdout",
     "output_type": "stream",
     "text": [
      "DR14Q_v4_4.fits\r\n",
      "DR16Q_v4.fits\r\n",
      "DR16Q_v4.short.csv.wrelgi\r\n",
      "Rankine20_CIV_HeII.fits\r\n",
      "Rankine20_CIV_HeII_wDelGI.fits\r\n",
      "Rankine20_CIV_HeII_wDelGI_wCIVDist.csv\r\n",
      "Rankine20_CIV_HeII_wDelGI_wCIVDist_4Latent_Jul0621.fits\r\n",
      "dr14_4latentparams.csv\r\n",
      "dr7_bh_May09_2011.fits\r\n"
     ]
    }
   ],
   "source": [
    "!ls /Users/Trevor1/Desktop/data/files/catalogs/"
   ]
  },
  {
   "cell_type": "code",
   "execution_count": 4,
   "id": "5f647ca8",
   "metadata": {},
   "outputs": [
    {
     "data": {
      "text/html": [
       "<div>\n",
       "<style scoped>\n",
       "    .dataframe tbody tr th:only-of-type {\n",
       "        vertical-align: middle;\n",
       "    }\n",
       "\n",
       "    .dataframe tbody tr th {\n",
       "        vertical-align: top;\n",
       "    }\n",
       "\n",
       "    .dataframe thead th {\n",
       "        text-align: right;\n",
       "    }\n",
       "</style>\n",
       "<table border=\"1\" class=\"dataframe\">\n",
       "  <thead>\n",
       "    <tr style=\"text-align: right;\">\n",
       "      <th></th>\n",
       "      <th>Unnamed: 0</th>\n",
       "      <th>SDSS_NAME</th>\n",
       "      <th>RA</th>\n",
       "      <th>Dec</th>\n",
       "      <th>z_paul</th>\n",
       "      <th>good</th>\n",
       "      <th>nBAL</th>\n",
       "      <th>AIi</th>\n",
       "      <th>BIi</th>\n",
       "      <th>CIV_blue</th>\n",
       "      <th>...</th>\n",
       "      <th>LUM_0.2_12.0keV</th>\n",
       "      <th>FUV</th>\n",
       "      <th>FUV_IVAR</th>\n",
       "      <th>NUV</th>\n",
       "      <th>NUV_IVAR</th>\n",
       "      <th>FIRST_FLUX</th>\n",
       "      <th>FIRST_SNR</th>\n",
       "      <th>Delta_G_I</th>\n",
       "      <th>Separation</th>\n",
       "      <th>CIV_Distance</th>\n",
       "    </tr>\n",
       "  </thead>\n",
       "  <tbody>\n",
       "    <tr>\n",
       "      <th>0</th>\n",
       "      <td>0</td>\n",
       "      <td>b'003708.46+002855.8'</td>\n",
       "      <td>9.285266</td>\n",
       "      <td>0.482174</td>\n",
       "      <td>3.02295</td>\n",
       "      <td>True</td>\n",
       "      <td>False</td>\n",
       "      <td>False</td>\n",
       "      <td>True</td>\n",
       "      <td>691.966469</td>\n",
       "      <td>...</td>\n",
       "      <td>NaN</td>\n",
       "      <td>0.032006</td>\n",
       "      <td>45.552314</td>\n",
       "      <td>-0.018692</td>\n",
       "      <td>3.531072</td>\n",
       "      <td>-1.0</td>\n",
       "      <td>-1.0</td>\n",
       "      <td>0.600</td>\n",
       "      <td>0.000000e+00</td>\n",
       "      <td>0.373444</td>\n",
       "    </tr>\n",
       "    <tr>\n",
       "      <th>1</th>\n",
       "      <td>1</td>\n",
       "      <td>b'004959.24+001903.1'</td>\n",
       "      <td>12.496858</td>\n",
       "      <td>0.317540</td>\n",
       "      <td>3.32150</td>\n",
       "      <td>True</td>\n",
       "      <td>False</td>\n",
       "      <td>False</td>\n",
       "      <td>True</td>\n",
       "      <td>857.180965</td>\n",
       "      <td>...</td>\n",
       "      <td>NaN</td>\n",
       "      <td>-0.079175</td>\n",
       "      <td>12.024832</td>\n",
       "      <td>-0.040529</td>\n",
       "      <td>3.323599</td>\n",
       "      <td>-1.0</td>\n",
       "      <td>-1.0</td>\n",
       "      <td>0.375</td>\n",
       "      <td>1.144982e-11</td>\n",
       "      <td>0.618225</td>\n",
       "    </tr>\n",
       "    <tr>\n",
       "      <th>2</th>\n",
       "      <td>2</td>\n",
       "      <td>b'015017.70+002902.4'</td>\n",
       "      <td>27.573786</td>\n",
       "      <td>0.484025</td>\n",
       "      <td>3.00333</td>\n",
       "      <td>True</td>\n",
       "      <td>False</td>\n",
       "      <td>False</td>\n",
       "      <td>True</td>\n",
       "      <td>1474.865400</td>\n",
       "      <td>...</td>\n",
       "      <td>NaN</td>\n",
       "      <td>-0.068240</td>\n",
       "      <td>1074.827534</td>\n",
       "      <td>0.183702</td>\n",
       "      <td>373.859257</td>\n",
       "      <td>-1.0</td>\n",
       "      <td>-1.0</td>\n",
       "      <td>0.167</td>\n",
       "      <td>2.289918e-11</td>\n",
       "      <td>0.681618</td>\n",
       "    </tr>\n",
       "    <tr>\n",
       "      <th>3</th>\n",
       "      <td>3</td>\n",
       "      <td>b'023238.49-001936.2'</td>\n",
       "      <td>38.160390</td>\n",
       "      <td>-0.326749</td>\n",
       "      <td>3.34348</td>\n",
       "      <td>True</td>\n",
       "      <td>False</td>\n",
       "      <td>False</td>\n",
       "      <td>True</td>\n",
       "      <td>715.316626</td>\n",
       "      <td>...</td>\n",
       "      <td>NaN</td>\n",
       "      <td>-0.042674</td>\n",
       "      <td>229.386872</td>\n",
       "      <td>0.313899</td>\n",
       "      <td>1.875008</td>\n",
       "      <td>-1.0</td>\n",
       "      <td>-1.0</td>\n",
       "      <td>0.831</td>\n",
       "      <td>0.000000e+00</td>\n",
       "      <td>0.563721</td>\n",
       "    </tr>\n",
       "    <tr>\n",
       "      <th>4</th>\n",
       "      <td>4</td>\n",
       "      <td>b'072047.82+405455.5'</td>\n",
       "      <td>110.199280</td>\n",
       "      <td>40.915418</td>\n",
       "      <td>3.04179</td>\n",
       "      <td>True</td>\n",
       "      <td>False</td>\n",
       "      <td>False</td>\n",
       "      <td>True</td>\n",
       "      <td>195.093283</td>\n",
       "      <td>...</td>\n",
       "      <td>NaN</td>\n",
       "      <td>-0.394990</td>\n",
       "      <td>7.126986</td>\n",
       "      <td>0.070899</td>\n",
       "      <td>32.722264</td>\n",
       "      <td>-1.0</td>\n",
       "      <td>-1.0</td>\n",
       "      <td>-0.159</td>\n",
       "      <td>0.000000e+00</td>\n",
       "      <td>0.282193</td>\n",
       "    </tr>\n",
       "  </tbody>\n",
       "</table>\n",
       "<p>5 rows × 63 columns</p>\n",
       "</div>"
      ],
      "text/plain": [
       "   Unnamed: 0              SDSS_NAME          RA        Dec   z_paul  good  \\\n",
       "0           0  b'003708.46+002855.8'    9.285266   0.482174  3.02295  True   \n",
       "1           1  b'004959.24+001903.1'   12.496858   0.317540  3.32150  True   \n",
       "2           2  b'015017.70+002902.4'   27.573786   0.484025  3.00333  True   \n",
       "3           3  b'023238.49-001936.2'   38.160390  -0.326749  3.34348  True   \n",
       "4           4  b'072047.82+405455.5'  110.199280  40.915418  3.04179  True   \n",
       "\n",
       "    nBAL    AIi   BIi     CIV_blue  ...  LUM_0.2_12.0keV       FUV  \\\n",
       "0  False  False  True   691.966469  ...              NaN  0.032006   \n",
       "1  False  False  True   857.180965  ...              NaN -0.079175   \n",
       "2  False  False  True  1474.865400  ...              NaN -0.068240   \n",
       "3  False  False  True   715.316626  ...              NaN -0.042674   \n",
       "4  False  False  True   195.093283  ...              NaN -0.394990   \n",
       "\n",
       "      FUV_IVAR       NUV    NUV_IVAR  FIRST_FLUX FIRST_SNR  Delta_G_I  \\\n",
       "0    45.552314 -0.018692    3.531072        -1.0      -1.0      0.600   \n",
       "1    12.024832 -0.040529    3.323599        -1.0      -1.0      0.375   \n",
       "2  1074.827534  0.183702  373.859257        -1.0      -1.0      0.167   \n",
       "3   229.386872  0.313899    1.875008        -1.0      -1.0      0.831   \n",
       "4     7.126986  0.070899   32.722264        -1.0      -1.0     -0.159   \n",
       "\n",
       "     Separation CIV_Distance  \n",
       "0  0.000000e+00     0.373444  \n",
       "1  1.144982e-11     0.618225  \n",
       "2  2.289918e-11     0.681618  \n",
       "3  0.000000e+00     0.563721  \n",
       "4  0.000000e+00     0.282193  \n",
       "\n",
       "[5 rows x 63 columns]"
      ]
     },
     "execution_count": 4,
     "metadata": {},
     "output_type": "execute_result"
    }
   ],
   "source": [
    "dat = pd.read_csv(\"/Users/Trevor1/Desktop/data/files/catalogs/Rankine20_CIV_HeII_wDelGI_wCIVDist.csv\")\n",
    "dat.head()"
   ]
  },
  {
   "cell_type": "code",
   "execution_count": 42,
   "id": "b56c9368",
   "metadata": {},
   "outputs": [
    {
     "data": {
      "text/plain": [
       "(45441, 63)"
      ]
     },
     "execution_count": 42,
     "metadata": {},
     "output_type": "execute_result"
    }
   ],
   "source": [
    "z = dat[[\"z_paul\"]].values.flatten()\n",
    "\n",
    "#cut df to redshift range we're working with\n",
    "dat = dat[(z>1.62)&(z<2.08)]\n",
    "dat.shape"
   ]
  },
  {
   "cell_type": "code",
   "execution_count": 43,
   "id": "83b7a8bd",
   "metadata": {},
   "outputs": [
    {
     "data": {
      "text/plain": [
       "Index(['Unnamed: 0', 'SDSS_NAME', 'RA', 'Dec', 'z_paul', 'good', 'nBAL', 'AIi',\n",
       "       'BIi', 'CIV_blue', 'CIV_EW', 'HeII_EW', 'THING_ID', 'PLATE', 'MJD',\n",
       "       'FIBERID', 'SPECTRO', 'Z', 'Z_ERR', 'SOURCE_Z', 'Z_VI', 'Z_PIPE',\n",
       "       'Z_PIPE_ERR', 'ZWARNING', 'Z_PCA', 'Z_PCA_ER', 'Z_MGII', 'BOSS_TARGET1',\n",
       "       'ANCILLARY_TARGET1', 'ANCILLARY_TARGET2', 'EBOSS_TARGET0',\n",
       "       'EBOSS_TARGET1', 'EBOSS_TARGET2', 'N_SPEC_SDSS', 'N_SPEC_BOSS',\n",
       "       'N_SPEC', 'BI_CIV', 'ERR_BI_CIV', 'RUN_NUMBER', 'RERUN_NUMBER',\n",
       "       'COL_NUMBER', 'FIELD_NUMBER', 'OBJ_ID', 'MI', 'RASS_COUNTS',\n",
       "       'RASS_COUNTS_SNR', 'SDSS2ROSAT_SEP', 'FLUX_0.2_2.0keV',\n",
       "       'FLUX_0.2_2.0keV_ERR', 'FLUX_2.0_12.0keV', 'FLUX_2.0_12.0keV_ERR',\n",
       "       'FLUX_0.2_12.0keV', 'FLUX_0.2_12.0keV_ERR', 'LUM_0.2_12.0keV', 'FUV',\n",
       "       'FUV_IVAR', 'NUV', 'NUV_IVAR', 'FIRST_FLUX', 'FIRST_SNR', 'Delta_G_I',\n",
       "       'Separation', 'CIV_Distance'],\n",
       "      dtype='object')"
      ]
     },
     "execution_count": 43,
     "metadata": {},
     "output_type": "execute_result"
    }
   ],
   "source": [
    "dat.columns"
   ]
  },
  {
   "cell_type": "code",
   "execution_count": 44,
   "id": "dd3280ee",
   "metadata": {},
   "outputs": [
    {
     "name": "stderr",
     "output_type": "stream",
     "text": [
      "<ipython-input-44-c01b0fe855ac>:2: RuntimeWarning: invalid value encountered in log10\n",
      "  logEW = np.log10(ew)\n"
     ]
    }
   ],
   "source": [
    "ew = dat[[\"CIV_EW\"]].values.flatten()\n",
    "logEW = np.log10(ew)\n",
    "blue = dat[[\"CIV_blue\"]].values.flatten()\n",
    "CIVdist = dat[[\"CIV_Distance\"]].values.flatten()\n",
    "HeII_ew = dat[[\"HeII_EW\"]].values.flatten()\n",
    "good = dat[[\"good\"]].values.flatten()"
   ]
  },
  {
   "cell_type": "code",
   "execution_count": 45,
   "id": "c85aa318",
   "metadata": {},
   "outputs": [
    {
     "name": "stderr",
     "output_type": "stream",
     "text": [
      "<ipython-input-45-0c7bfb0b0d05>:3: RuntimeWarning: divide by zero encountered in log10\n",
      "  ax2.scatter(blue[good], logEW[good], c=np.log10(HeII_ew[good]))\n",
      "<ipython-input-45-0c7bfb0b0d05>:3: RuntimeWarning: invalid value encountered in log10\n",
      "  ax2.scatter(blue[good], logEW[good], c=np.log10(HeII_ew[good]))\n"
     ]
    },
    {
     "data": {
      "image/png": "[encoded data removed]",
      "text/plain": [
       "<Figure size 792x360 with 2 Axes>"
      ]
     },
     "metadata": {
      "needs_background": "light"
     },
     "output_type": "display_data"
    }
   ],
   "source": [
    "fig, [ax1,ax2] = plt.subplots(1, 2, figsize=(11,5))\n",
    "ax1.scatter(blue[good], logEW[good], c=CIVdist[good])\n",
    "ax2.scatter(blue[good], logEW[good], c=np.log10(HeII_ew[good]))\n",
    "plt.show()"
   ]
  },
  {
   "cell_type": "markdown",
   "id": "5a786d64",
   "metadata": {},
   "source": [
    "Want a good training set for the autoencoder, which I think can be retrieved by taking equal-sized bins in CIV distance -- that should track changes in the spectra well."
   ]
  },
  {
   "cell_type": "code",
   "execution_count": 46,
   "id": "ba3710b5",
   "metadata": {},
   "outputs": [
    {
     "data": {
      "text/plain": [
       "(-99.0, 1.3578617879098829)"
      ]
     },
     "execution_count": 46,
     "metadata": {},
     "output_type": "execute_result"
    }
   ],
   "source": [
    "CIVdist.min(), CIVdist.max()"
   ]
  },
  {
   "cell_type": "code",
   "execution_count": 47,
   "id": "4dbc1623",
   "metadata": {},
   "outputs": [
    {
     "data": {
      "text/plain": [
       "7"
      ]
     },
     "execution_count": 47,
     "metadata": {},
     "output_type": "execute_result"
    }
   ],
   "source": [
    "(CIVdist==-99).sum()"
   ]
  },
  {
   "cell_type": "code",
   "execution_count": 48,
   "id": "112b1046",
   "metadata": {},
   "outputs": [
    {
     "data": {
      "image/png": "[encoded data removed]",
      "text/plain": [
       "<Figure size 360x360 with 1 Axes>"
      ]
     },
     "metadata": {
      "needs_background": "light"
     },
     "output_type": "display_data"
    }
   ],
   "source": [
    "fig = plt.figure(figsize=(5,5))\n",
    "plt.hist(CIVdist, histtype=\"step\", bins=\"scott\")\n",
    "plt.plot([-100,100], [500,500], \"--k\")\n",
    "plt.xlim(-0.05,1.4)\n",
    "plt.show()"
   ]
  },
  {
   "cell_type": "code",
   "execution_count": 95,
   "id": "0ceecb14",
   "metadata": {},
   "outputs": [
    {
     "data": {
      "text/plain": [
       "(6836, 9627, 14920, 8988, 5577)"
      ]
     },
     "execution_count": 95,
     "metadata": {},
     "output_type": "execute_result"
    }
   ],
   "source": [
    "(CIVdist<0.4).sum(), ((CIVdist>=0.4)&(CIVdist<0.5)).sum(), ((CIVdist>=0.5)&(CIVdist<0.6)).sum(), ((CIVdist>=0.6)&(CIVdist<0.7)).sum(), (CIVdist>=0.69).sum() "
   ]
  },
  {
   "cell_type": "markdown",
   "id": "acf2b776",
   "metadata": {},
   "source": [
    "Take 4000 from each bin for the training set.  Thery're not evenly spaced, but will hopefully still do better than just randomly drawing from the entire CIV space."
   ]
  },
  {
   "cell_type": "code",
   "execution_count": 62,
   "id": "188d1f6b",
   "metadata": {},
   "outputs": [
    {
     "data": {
      "text/plain": [
       "Int64Index([     8,     15,     24,     48,     62,     65,     66,     69,\n",
       "                92,    103,\n",
       "            ...\n",
       "            145935, 145936, 145937, 145938, 145939, 145940, 145941, 145942,\n",
       "            145944, 145945],\n",
       "           dtype='int64', length=45441)"
      ]
     },
     "execution_count": 62,
     "metadata": {},
     "output_type": "execute_result"
    }
   ],
   "source": []
  },
  {
   "cell_type": "code",
   "execution_count": 71,
   "id": "26fad12f",
   "metadata": {},
   "outputs": [
    {
     "data": {
      "text/html": [
       "<div>\n",
       "<style scoped>\n",
       "    .dataframe tbody tr th:only-of-type {\n",
       "        vertical-align: middle;\n",
       "    }\n",
       "\n",
       "    .dataframe tbody tr th {\n",
       "        vertical-align: top;\n",
       "    }\n",
       "\n",
       "    .dataframe thead th {\n",
       "        text-align: right;\n",
       "    }\n",
       "</style>\n",
       "<table border=\"1\" class=\"dataframe\">\n",
       "  <thead>\n",
       "    <tr style=\"text-align: right;\">\n",
       "      <th></th>\n",
       "      <th>Unnamed: 0</th>\n",
       "      <th>SDSS_NAME</th>\n",
       "      <th>RA</th>\n",
       "      <th>Dec</th>\n",
       "      <th>z_paul</th>\n",
       "      <th>good</th>\n",
       "      <th>nBAL</th>\n",
       "      <th>AIi</th>\n",
       "      <th>BIi</th>\n",
       "      <th>CIV_blue</th>\n",
       "      <th>...</th>\n",
       "      <th>LUM_0.2_12.0keV</th>\n",
       "      <th>FUV</th>\n",
       "      <th>FUV_IVAR</th>\n",
       "      <th>NUV</th>\n",
       "      <th>NUV_IVAR</th>\n",
       "      <th>FIRST_FLUX</th>\n",
       "      <th>FIRST_SNR</th>\n",
       "      <th>Delta_G_I</th>\n",
       "      <th>Separation</th>\n",
       "      <th>CIV_Distance</th>\n",
       "    </tr>\n",
       "  </thead>\n",
       "  <tbody>\n",
       "    <tr>\n",
       "      <th>8</th>\n",
       "      <td>8</td>\n",
       "      <td>b'074717.69+483917.4'</td>\n",
       "      <td>116.823739</td>\n",
       "      <td>48.654850</td>\n",
       "      <td>1.88349</td>\n",
       "      <td>True</td>\n",
       "      <td>False</td>\n",
       "      <td>False</td>\n",
       "      <td>True</td>\n",
       "      <td>1255.186285</td>\n",
       "      <td>...</td>\n",
       "      <td>NaN</td>\n",
       "      <td>0.091723</td>\n",
       "      <td>20.541693</td>\n",
       "      <td>0.221892</td>\n",
       "      <td>269.526076</td>\n",
       "      <td>-1.00</td>\n",
       "      <td>-1.000000</td>\n",
       "      <td>0.057</td>\n",
       "      <td>2.289999e-11</td>\n",
       "      <td>0.634468</td>\n",
       "    </tr>\n",
       "    <tr>\n",
       "      <th>15</th>\n",
       "      <td>15</td>\n",
       "      <td>b'074508.36+432018.7'</td>\n",
       "      <td>116.284848</td>\n",
       "      <td>43.338546</td>\n",
       "      <td>2.04867</td>\n",
       "      <td>False</td>\n",
       "      <td>False</td>\n",
       "      <td>False</td>\n",
       "      <td>True</td>\n",
       "      <td>1035.547028</td>\n",
       "      <td>...</td>\n",
       "      <td>NaN</td>\n",
       "      <td>0.299364</td>\n",
       "      <td>196.506041</td>\n",
       "      <td>0.104414</td>\n",
       "      <td>191.143006</td>\n",
       "      <td>-1.00</td>\n",
       "      <td>-1.000000</td>\n",
       "      <td>0.986</td>\n",
       "      <td>7.044756e-11</td>\n",
       "      <td>0.274755</td>\n",
       "    </tr>\n",
       "    <tr>\n",
       "      <th>24</th>\n",
       "      <td>24</td>\n",
       "      <td>b'081318.91+463353.1'</td>\n",
       "      <td>123.328802</td>\n",
       "      <td>46.564770</td>\n",
       "      <td>1.98150</td>\n",
       "      <td>True</td>\n",
       "      <td>False</td>\n",
       "      <td>False</td>\n",
       "      <td>True</td>\n",
       "      <td>327.167286</td>\n",
       "      <td>...</td>\n",
       "      <td>NaN</td>\n",
       "      <td>-0.243693</td>\n",
       "      <td>144.650715</td>\n",
       "      <td>0.209737</td>\n",
       "      <td>15.758822</td>\n",
       "      <td>-1.00</td>\n",
       "      <td>-1.000000</td>\n",
       "      <td>-0.006</td>\n",
       "      <td>2.289999e-11</td>\n",
       "      <td>0.436304</td>\n",
       "    </tr>\n",
       "    <tr>\n",
       "      <th>48</th>\n",
       "      <td>48</td>\n",
       "      <td>b'093512.48-021501.9'</td>\n",
       "      <td>143.802005</td>\n",
       "      <td>-2.250530</td>\n",
       "      <td>1.96095</td>\n",
       "      <td>True</td>\n",
       "      <td>False</td>\n",
       "      <td>False</td>\n",
       "      <td>True</td>\n",
       "      <td>1019.521232</td>\n",
       "      <td>...</td>\n",
       "      <td>NaN</td>\n",
       "      <td>-0.152725</td>\n",
       "      <td>33.907194</td>\n",
       "      <td>0.453422</td>\n",
       "      <td>10.802852</td>\n",
       "      <td>-1.00</td>\n",
       "      <td>-1.000000</td>\n",
       "      <td>-0.103</td>\n",
       "      <td>9.154051e-11</td>\n",
       "      <td>0.620002</td>\n",
       "    </tr>\n",
       "    <tr>\n",
       "      <th>62</th>\n",
       "      <td>62</td>\n",
       "      <td>b'090847.10-021645.5'</td>\n",
       "      <td>137.196263</td>\n",
       "      <td>-2.279331</td>\n",
       "      <td>1.96067</td>\n",
       "      <td>False</td>\n",
       "      <td>False</td>\n",
       "      <td>False</td>\n",
       "      <td>True</td>\n",
       "      <td>3141.712465</td>\n",
       "      <td>...</td>\n",
       "      <td>NaN</td>\n",
       "      <td>0.030075</td>\n",
       "      <td>1585.328237</td>\n",
       "      <td>0.061559</td>\n",
       "      <td>3114.210494</td>\n",
       "      <td>1.11</td>\n",
       "      <td>6.109413</td>\n",
       "      <td>1.044</td>\n",
       "      <td>0.000000e+00</td>\n",
       "      <td>0.981641</td>\n",
       "    </tr>\n",
       "    <tr>\n",
       "      <th>...</th>\n",
       "      <td>...</td>\n",
       "      <td>...</td>\n",
       "      <td>...</td>\n",
       "      <td>...</td>\n",
       "      <td>...</td>\n",
       "      <td>...</td>\n",
       "      <td>...</td>\n",
       "      <td>...</td>\n",
       "      <td>...</td>\n",
       "      <td>...</td>\n",
       "      <td>...</td>\n",
       "      <td>...</td>\n",
       "      <td>...</td>\n",
       "      <td>...</td>\n",
       "      <td>...</td>\n",
       "      <td>...</td>\n",
       "      <td>...</td>\n",
       "      <td>...</td>\n",
       "      <td>...</td>\n",
       "      <td>...</td>\n",
       "      <td>...</td>\n",
       "    </tr>\n",
       "    <tr>\n",
       "      <th>145940</th>\n",
       "      <td>145940</td>\n",
       "      <td>b'122158.26+313141.1'</td>\n",
       "      <td>185.492769</td>\n",
       "      <td>31.528089</td>\n",
       "      <td>1.88189</td>\n",
       "      <td>True</td>\n",
       "      <td>True</td>\n",
       "      <td>False</td>\n",
       "      <td>False</td>\n",
       "      <td>781.411297</td>\n",
       "      <td>...</td>\n",
       "      <td>NaN</td>\n",
       "      <td>2.220843</td>\n",
       "      <td>2.531889</td>\n",
       "      <td>3.473794</td>\n",
       "      <td>3.662243</td>\n",
       "      <td>-1.00</td>\n",
       "      <td>-1.000000</td>\n",
       "      <td>-0.027</td>\n",
       "      <td>0.000000e+00</td>\n",
       "      <td>0.600844</td>\n",
       "    </tr>\n",
       "    <tr>\n",
       "      <th>145941</th>\n",
       "      <td>145941</td>\n",
       "      <td>b'104516.86+374948.2'</td>\n",
       "      <td>161.320277</td>\n",
       "      <td>37.830078</td>\n",
       "      <td>1.96896</td>\n",
       "      <td>True</td>\n",
       "      <td>True</td>\n",
       "      <td>False</td>\n",
       "      <td>False</td>\n",
       "      <td>317.900832</td>\n",
       "      <td>...</td>\n",
       "      <td>NaN</td>\n",
       "      <td>0.000000</td>\n",
       "      <td>0.000000</td>\n",
       "      <td>0.000000</td>\n",
       "      <td>0.000000</td>\n",
       "      <td>-1.00</td>\n",
       "      <td>-1.000000</td>\n",
       "      <td>-0.070</td>\n",
       "      <td>0.000000e+00</td>\n",
       "      <td>0.541151</td>\n",
       "    </tr>\n",
       "    <tr>\n",
       "      <th>145942</th>\n",
       "      <td>145942</td>\n",
       "      <td>b'104517.00+390453.4'</td>\n",
       "      <td>161.320854</td>\n",
       "      <td>39.081517</td>\n",
       "      <td>1.71788</td>\n",
       "      <td>True</td>\n",
       "      <td>True</td>\n",
       "      <td>False</td>\n",
       "      <td>False</td>\n",
       "      <td>-811.789916</td>\n",
       "      <td>...</td>\n",
       "      <td>NaN</td>\n",
       "      <td>1.190250</td>\n",
       "      <td>3.502668</td>\n",
       "      <td>1.778391</td>\n",
       "      <td>4.308532</td>\n",
       "      <td>-1.00</td>\n",
       "      <td>-1.000000</td>\n",
       "      <td>-0.015</td>\n",
       "      <td>0.000000e+00</td>\n",
       "      <td>0.271323</td>\n",
       "    </tr>\n",
       "    <tr>\n",
       "      <th>145944</th>\n",
       "      <td>145944</td>\n",
       "      <td>b'104158.47+370704.0'</td>\n",
       "      <td>160.493650</td>\n",
       "      <td>37.117798</td>\n",
       "      <td>1.90771</td>\n",
       "      <td>True</td>\n",
       "      <td>True</td>\n",
       "      <td>False</td>\n",
       "      <td>False</td>\n",
       "      <td>1953.232349</td>\n",
       "      <td>...</td>\n",
       "      <td>NaN</td>\n",
       "      <td>0.378174</td>\n",
       "      <td>3.417499</td>\n",
       "      <td>11.674971</td>\n",
       "      <td>1.187238</td>\n",
       "      <td>-1.00</td>\n",
       "      <td>-1.000000</td>\n",
       "      <td>-0.131</td>\n",
       "      <td>0.000000e+00</td>\n",
       "      <td>0.778887</td>\n",
       "    </tr>\n",
       "    <tr>\n",
       "      <th>145945</th>\n",
       "      <td>145945</td>\n",
       "      <td>b'114718.53+375652.2'</td>\n",
       "      <td>176.827211</td>\n",
       "      <td>37.947852</td>\n",
       "      <td>2.02603</td>\n",
       "      <td>True</td>\n",
       "      <td>False</td>\n",
       "      <td>True</td>\n",
       "      <td>False</td>\n",
       "      <td>3026.206012</td>\n",
       "      <td>...</td>\n",
       "      <td>NaN</td>\n",
       "      <td>5.756354</td>\n",
       "      <td>1.674348</td>\n",
       "      <td>10.467230</td>\n",
       "      <td>0.574048</td>\n",
       "      <td>-1.00</td>\n",
       "      <td>-1.000000</td>\n",
       "      <td>0.181</td>\n",
       "      <td>0.000000e+00</td>\n",
       "      <td>0.943038</td>\n",
       "    </tr>\n",
       "  </tbody>\n",
       "</table>\n",
       "<p>45441 rows × 63 columns</p>\n",
       "</div>"
      ],
      "text/plain": [
       "        Unnamed: 0              SDSS_NAME          RA        Dec   z_paul  \\\n",
       "8                8  b'074717.69+483917.4'  116.823739  48.654850  1.88349   \n",
       "15              15  b'074508.36+432018.7'  116.284848  43.338546  2.04867   \n",
       "24              24  b'081318.91+463353.1'  123.328802  46.564770  1.98150   \n",
       "48              48  b'093512.48-021501.9'  143.802005  -2.250530  1.96095   \n",
       "62              62  b'090847.10-021645.5'  137.196263  -2.279331  1.96067   \n",
       "...            ...                    ...         ...        ...      ...   \n",
       "145940      145940  b'122158.26+313141.1'  185.492769  31.528089  1.88189   \n",
       "145941      145941  b'104516.86+374948.2'  161.320277  37.830078  1.96896   \n",
       "145942      145942  b'104517.00+390453.4'  161.320854  39.081517  1.71788   \n",
       "145944      145944  b'104158.47+370704.0'  160.493650  37.117798  1.90771   \n",
       "145945      145945  b'114718.53+375652.2'  176.827211  37.947852  2.02603   \n",
       "\n",
       "         good   nBAL    AIi    BIi     CIV_blue  ...  LUM_0.2_12.0keV  \\\n",
       "8        True  False  False   True  1255.186285  ...              NaN   \n",
       "15      False  False  False   True  1035.547028  ...              NaN   \n",
       "24       True  False  False   True   327.167286  ...              NaN   \n",
       "48       True  False  False   True  1019.521232  ...              NaN   \n",
       "62      False  False  False   True  3141.712465  ...              NaN   \n",
       "...       ...    ...    ...    ...          ...  ...              ...   \n",
       "145940   True   True  False  False   781.411297  ...              NaN   \n",
       "145941   True   True  False  False   317.900832  ...              NaN   \n",
       "145942   True   True  False  False  -811.789916  ...              NaN   \n",
       "145944   True   True  False  False  1953.232349  ...              NaN   \n",
       "145945   True  False   True  False  3026.206012  ...              NaN   \n",
       "\n",
       "             FUV     FUV_IVAR        NUV     NUV_IVAR  FIRST_FLUX FIRST_SNR  \\\n",
       "8       0.091723    20.541693   0.221892   269.526076       -1.00 -1.000000   \n",
       "15      0.299364   196.506041   0.104414   191.143006       -1.00 -1.000000   \n",
       "24     -0.243693   144.650715   0.209737    15.758822       -1.00 -1.000000   \n",
       "48     -0.152725    33.907194   0.453422    10.802852       -1.00 -1.000000   \n",
       "62      0.030075  1585.328237   0.061559  3114.210494        1.11  6.109413   \n",
       "...          ...          ...        ...          ...         ...       ...   \n",
       "145940  2.220843     2.531889   3.473794     3.662243       -1.00 -1.000000   \n",
       "145941  0.000000     0.000000   0.000000     0.000000       -1.00 -1.000000   \n",
       "145942  1.190250     3.502668   1.778391     4.308532       -1.00 -1.000000   \n",
       "145944  0.378174     3.417499  11.674971     1.187238       -1.00 -1.000000   \n",
       "145945  5.756354     1.674348  10.467230     0.574048       -1.00 -1.000000   \n",
       "\n",
       "        Delta_G_I    Separation CIV_Distance  \n",
       "8           0.057  2.289999e-11     0.634468  \n",
       "15          0.986  7.044756e-11     0.274755  \n",
       "24         -0.006  2.289999e-11     0.436304  \n",
       "48         -0.103  9.154051e-11     0.620002  \n",
       "62          1.044  0.000000e+00     0.981641  \n",
       "...           ...           ...          ...  \n",
       "145940     -0.027  0.000000e+00     0.600844  \n",
       "145941     -0.070  0.000000e+00     0.541151  \n",
       "145942     -0.015  0.000000e+00     0.271323  \n",
       "145944     -0.131  0.000000e+00     0.778887  \n",
       "145945      0.181  0.000000e+00     0.943038  \n",
       "\n",
       "[45441 rows x 63 columns]"
      ]
     },
     "execution_count": 71,
     "metadata": {},
     "output_type": "execute_result"
    }
   ],
   "source": [
    "dat.loc[dat.index]"
   ]
  },
  {
   "cell_type": "code",
   "execution_count": 79,
   "id": "2cdeb1a7",
   "metadata": {},
   "outputs": [
    {
     "data": {
      "text/plain": [
       "array([[0.63446844],\n",
       "       [0.27475522],\n",
       "       [0.43630353],\n",
       "       ...,\n",
       "       [0.27132257],\n",
       "       [0.77888739],\n",
       "       [0.94303795]])"
      ]
     },
     "execution_count": 79,
     "metadata": {},
     "output_type": "execute_result"
    }
   ],
   "source": [
    "dat[\"CIV_Distance\"].loc[dat.index].values"
   ]
  },
  {
   "cell_type": "code",
   "execution_count": 96,
   "id": "b64f1c38",
   "metadata": {},
   "outputs": [],
   "source": [
    "#Save indices of spectra we want to train on\n",
    "train_inds = []\n",
    "valid_inds = []\n",
    "\n",
    "#Create evenly sized bins\n",
    "bins = [0, 0.4, 0.5, 0.6, 0.69, max(CIVdist)+0.1]\n",
    "\n",
    "for i in range(len(bins)-1):\n",
    "    mask = (CIVdist>=bins[i]) & (CIVdist<bins[i+1])\n",
    "    inds_list = dat.index[mask]\n",
    "    train_inds.append(inds_list[:4000]) #take 3000 from each bin for training\n",
    "    valid_inds.append(inds_list[4000:5500]) #take 1500 from each bin for validation\n",
    "\n",
    "train_inds = np.array(train_inds)\n",
    "valid_inds = np.array(valid_inds)"
   ]
  },
  {
   "cell_type": "code",
   "execution_count": 97,
   "id": "099b2d34",
   "metadata": {},
   "outputs": [
    {
     "data": {
      "image/png": "[encoded data removed]",
      "text/plain": [
       "<Figure size 432x288 with 1 Axes>"
      ]
     },
     "metadata": {
      "needs_background": "light"
     },
     "output_type": "display_data"
    }
   ],
   "source": [
    "for i in range(train_inds.shape[0]):\n",
    "    _ = plt.hist(dat[\"CIV_Distance\"].loc[train_inds[i,:]])\n",
    "plt.show()"
   ]
  },
  {
   "cell_type": "code",
   "execution_count": 98,
   "id": "63e98574",
   "metadata": {},
   "outputs": [
    {
     "data": {
      "text/plain": [
       "(20000, 63)"
      ]
     },
     "execution_count": 98,
     "metadata": {},
     "output_type": "execute_result"
    }
   ],
   "source": [
    "df_train = dat.loc[train_inds.flatten()]\n",
    "df_train.shape"
   ]
  },
  {
   "cell_type": "code",
   "execution_count": 99,
   "id": "c1faf577",
   "metadata": {},
   "outputs": [
    {
     "data": {
      "text/plain": [
       "(7500, 63)"
      ]
     },
     "execution_count": 99,
     "metadata": {},
     "output_type": "execute_result"
    }
   ],
   "source": [
    "df_valid = dat.loc[valid_inds.flatten()]\n",
    "df_valid.shape"
   ]
  },
  {
   "cell_type": "code",
   "execution_count": 100,
   "id": "56fcb4ab",
   "metadata": {},
   "outputs": [
    {
     "name": "stdout",
     "output_type": "stream",
     "text": [
      "DR14Q_v4_4.fits\r\n",
      "DR16Q_v4.fits\r\n",
      "DR16Q_v4.short.csv.wrelgi\r\n",
      "Rankine20_CIV_HeII.fits\r\n",
      "Rankine20_CIV_HeII_wDelGI.fits\r\n",
      "Rankine20_CIV_HeII_wDelGI_wCIVDist.csv\r\n",
      "Rankine20_CIV_HeII_wDelGI_wCIVDist_4Latent_Jul0621.fits\r\n",
      "dr14_4latentparams.csv\r\n",
      "dr14_train_uniform.csv\r\n",
      "dr7_bh_May09_2011.fits\r\n"
     ]
    }
   ],
   "source": [
    "!ls /Users/Trevor1/Desktop/data/files/catalogs/"
   ]
  },
  {
   "cell_type": "code",
   "execution_count": 101,
   "id": "7d8d72ce",
   "metadata": {},
   "outputs": [],
   "source": [
    "df_train.to_csv(\"/Users/Trevor1/Desktop/data/files/catalogs/dr14_train_uniform.csv\")\n",
    "df_valid.to_csv(\"/Users/Trevor1/Desktop/data/files/catalogs/dr14_valid_uniform.csv\")"
   ]
  },
  {
   "cell_type": "code",
   "execution_count": null,
   "id": "44204bc4",
   "metadata": {},
   "outputs": [],
   "source": []
  }
 ],
 "metadata": {
  "kernelspec": {
   "display_name": "Python 3",
   "language": "python",
   "name": "python3"
  },
  "language_info": {
   "codemirror_mode": {
    "name": "ipython",
    "version": 3
   },
   "file_extension": ".py",
   "mimetype": "text/x-python",
   "name": "python",
   "nbconvert_exporter": "python",
   "pygments_lexer": "ipython3",
   "version": "3.6.10"
  }
 },
 "nbformat": 4,
 "nbformat_minor": 5
}
