{
 "cells": [
  {
   "cell_type": "markdown",
   "id": "0e014e38",
   "metadata": {},
   "source": [
    "Test out a log version of the best-fit curve"
   ]
  },
  {
   "cell_type": "code",
   "execution_count": 1,
   "id": "objective-office",
   "metadata": {},
   "outputs": [],
   "source": [
    "import matplotlib.pyplot as plt\n",
    "from matplotlib.figure import Figure\n",
    "import numpy as np\n",
    "import pandas as pd\n",
    "#import richardsplot as rplot\n",
    "from astropy.table import Table"
   ]
  },
  {
   "cell_type": "code",
   "execution_count": 4,
   "id": "a0d68431",
   "metadata": {},
   "outputs": [
    {
     "name": "stdout",
     "output_type": "stream",
     "text": [
      "HST_Chandra_Redshifts.csv\r\n",
      "\u001b[34mHST_SDSS_Data\u001b[m\u001b[m\r\n",
      "Rankine20_CIV_HeII_wDelGI_wCIVDist_ugriz.fits\r\n",
      "\u001b[34mSDSS_Filters\u001b[m\u001b[m\r\n",
      "data_filters.tgz\r\n",
      "dr16qsocat_czrSF11.061821.dat\r\n",
      "grdr7.8403col.Rankine20match_deredugriz.fits\r\n",
      "\u001b[34mtest\u001b[m\u001b[m\r\n",
      "vandenberk01_medianSDSSspectrum.txt\r\n"
     ]
    }
   ],
   "source": [
    "!ls ../data"
   ]
  },
  {
   "cell_type": "code",
   "execution_count": 5,
   "id": "super-tuner",
   "metadata": {},
   "outputs": [
    {
     "data": {
      "text/html": [
       "<div>\n",
       "<style scoped>\n",
       "    .dataframe tbody tr th:only-of-type {\n",
       "        vertical-align: middle;\n",
       "    }\n",
       "\n",
       "    .dataframe tbody tr th {\n",
       "        vertical-align: top;\n",
       "    }\n",
       "\n",
       "    .dataframe thead th {\n",
       "        text-align: right;\n",
       "    }\n",
       "</style>\n",
       "<table border=\"1\" class=\"dataframe\">\n",
       "  <thead>\n",
       "    <tr style=\"text-align: right;\">\n",
       "      <th></th>\n",
       "      <th>SDSS_NAME</th>\n",
       "      <th>RA</th>\n",
       "      <th>Dec</th>\n",
       "      <th>z_paul</th>\n",
       "      <th>good</th>\n",
       "      <th>nBAL</th>\n",
       "      <th>AIi</th>\n",
       "      <th>BIi</th>\n",
       "      <th>CIV_blue</th>\n",
       "      <th>CIV_EW</th>\n",
       "      <th>...</th>\n",
       "      <th>FIBERID</th>\n",
       "      <th>SPECTRO</th>\n",
       "      <th>Z</th>\n",
       "      <th>Z_ERR</th>\n",
       "      <th>SOURCE_Z</th>\n",
       "      <th>BI_CIV</th>\n",
       "      <th>MI</th>\n",
       "      <th>FIRST_FLUX</th>\n",
       "      <th>Delta_G_I</th>\n",
       "      <th>CIV_Distance</th>\n",
       "    </tr>\n",
       "  </thead>\n",
       "  <tbody>\n",
       "    <tr>\n",
       "      <th>0</th>\n",
       "      <td>b\"b'00000-00000'\"</td>\n",
       "      <td>37.878914</td>\n",
       "      <td>-5.979054</td>\n",
       "      <td>1.978870</td>\n",
       "      <td>True</td>\n",
       "      <td>False</td>\n",
       "      <td>True</td>\n",
       "      <td>False</td>\n",
       "      <td>-494.607254</td>\n",
       "      <td>51.555290</td>\n",
       "      <td>...</td>\n",
       "      <td>165</td>\n",
       "      <td>b\"b'BOSS'\"</td>\n",
       "      <td>2.002</td>\n",
       "      <td>0.0</td>\n",
       "      <td>b\"b'VI'\"</td>\n",
       "      <td>0.0000</td>\n",
       "      <td>-45.772591</td>\n",
       "      <td>-1.0</td>\n",
       "      <td>0.257</td>\n",
       "      <td>0.446845</td>\n",
       "    </tr>\n",
       "    <tr>\n",
       "      <th>1</th>\n",
       "      <td>b\"b'00000-00000'\"</td>\n",
       "      <td>37.681328</td>\n",
       "      <td>-4.705002</td>\n",
       "      <td>1.658950</td>\n",
       "      <td>False</td>\n",
       "      <td>False</td>\n",
       "      <td>True</td>\n",
       "      <td>False</td>\n",
       "      <td>170.299612</td>\n",
       "      <td>18.484854</td>\n",
       "      <td>...</td>\n",
       "      <td>815</td>\n",
       "      <td>b\"b'BOSS'\"</td>\n",
       "      <td>1.650</td>\n",
       "      <td>0.0</td>\n",
       "      <td>b\"b'VI'\"</td>\n",
       "      <td>0.0000</td>\n",
       "      <td>-45.230927</td>\n",
       "      <td>-1.0</td>\n",
       "      <td>0.870</td>\n",
       "      <td>0.641868</td>\n",
       "    </tr>\n",
       "    <tr>\n",
       "      <th>2</th>\n",
       "      <td>b\"b'00000-00000'\"</td>\n",
       "      <td>38.413724</td>\n",
       "      <td>-5.005835</td>\n",
       "      <td>1.650225</td>\n",
       "      <td>True</td>\n",
       "      <td>False</td>\n",
       "      <td>True</td>\n",
       "      <td>False</td>\n",
       "      <td>1458.723050</td>\n",
       "      <td>28.998439</td>\n",
       "      <td>...</td>\n",
       "      <td>31</td>\n",
       "      <td>b\"b'BOSS'\"</td>\n",
       "      <td>1.645</td>\n",
       "      <td>0.0</td>\n",
       "      <td>b\"b'VI'\"</td>\n",
       "      <td>0.0000</td>\n",
       "      <td>-45.223328</td>\n",
       "      <td>-1.0</td>\n",
       "      <td>-0.274</td>\n",
       "      <td>0.695980</td>\n",
       "    </tr>\n",
       "    <tr>\n",
       "      <th>3</th>\n",
       "      <td>b\"b'00000-00000'\"</td>\n",
       "      <td>37.484777</td>\n",
       "      <td>-5.040745</td>\n",
       "      <td>1.682022</td>\n",
       "      <td>True</td>\n",
       "      <td>False</td>\n",
       "      <td>False</td>\n",
       "      <td>True</td>\n",
       "      <td>573.970534</td>\n",
       "      <td>30.974248</td>\n",
       "      <td>...</td>\n",
       "      <td>278</td>\n",
       "      <td>b\"b'BOSS'\"</td>\n",
       "      <td>1.680</td>\n",
       "      <td>0.0</td>\n",
       "      <td>b\"b'VI'\"</td>\n",
       "      <td>1817.0256</td>\n",
       "      <td>-45.276993</td>\n",
       "      <td>-1.0</td>\n",
       "      <td>0.322</td>\n",
       "      <td>0.595771</td>\n",
       "    </tr>\n",
       "    <tr>\n",
       "      <th>4</th>\n",
       "      <td>b\"b'00000-00000'\"</td>\n",
       "      <td>36.424650</td>\n",
       "      <td>-5.592339</td>\n",
       "      <td>1.653923</td>\n",
       "      <td>True</td>\n",
       "      <td>False</td>\n",
       "      <td>False</td>\n",
       "      <td>True</td>\n",
       "      <td>992.493501</td>\n",
       "      <td>91.379252</td>\n",
       "      <td>...</td>\n",
       "      <td>445</td>\n",
       "      <td>b\"b'BOSS'\"</td>\n",
       "      <td>1.660</td>\n",
       "      <td>0.0</td>\n",
       "      <td>b\"b'VI'\"</td>\n",
       "      <td>0.0000</td>\n",
       "      <td>-45.246048</td>\n",
       "      <td>-1.0</td>\n",
       "      <td>0.413</td>\n",
       "      <td>0.323098</td>\n",
       "    </tr>\n",
       "  </tbody>\n",
       "</table>\n",
       "<p>5 rows × 23 columns</p>\n",
       "</div>"
      ],
      "text/plain": [
       "           SDSS_NAME         RA       Dec    z_paul   good   nBAL    AIi  \\\n",
       "0  b\"b'00000-00000'\"  37.878914 -5.979054  1.978870   True  False   True   \n",
       "1  b\"b'00000-00000'\"  37.681328 -4.705002  1.658950  False  False   True   \n",
       "2  b\"b'00000-00000'\"  38.413724 -5.005835  1.650225   True  False   True   \n",
       "3  b\"b'00000-00000'\"  37.484777 -5.040745  1.682022   True  False  False   \n",
       "4  b\"b'00000-00000'\"  36.424650 -5.592339  1.653923   True  False  False   \n",
       "\n",
       "     BIi     CIV_blue     CIV_EW  ...  FIBERID     SPECTRO      Z  Z_ERR  \\\n",
       "0  False  -494.607254  51.555290  ...      165  b\"b'BOSS'\"  2.002    0.0   \n",
       "1  False   170.299612  18.484854  ...      815  b\"b'BOSS'\"  1.650    0.0   \n",
       "2  False  1458.723050  28.998439  ...       31  b\"b'BOSS'\"  1.645    0.0   \n",
       "3   True   573.970534  30.974248  ...      278  b\"b'BOSS'\"  1.680    0.0   \n",
       "4   True   992.493501  91.379252  ...      445  b\"b'BOSS'\"  1.660    0.0   \n",
       "\n",
       "   SOURCE_Z     BI_CIV         MI FIRST_FLUX  Delta_G_I  CIV_Distance  \n",
       "0  b\"b'VI'\"     0.0000 -45.772591       -1.0      0.257      0.446845  \n",
       "1  b\"b'VI'\"     0.0000 -45.230927       -1.0      0.870      0.641868  \n",
       "2  b\"b'VI'\"     0.0000 -45.223328       -1.0     -0.274      0.695980  \n",
       "3  b\"b'VI'\"  1817.0256 -45.276993       -1.0      0.322      0.595771  \n",
       "4  b\"b'VI'\"     0.0000 -45.246048       -1.0      0.413      0.323098  \n",
       "\n",
       "[5 rows x 23 columns]"
      ]
     },
     "execution_count": 5,
     "metadata": {},
     "output_type": "execute_result"
    }
   ],
   "source": [
    "df = Table.read('../data/Rankine20_CIV_HeII_wDelGI_wCIVDist_ugriz.fits', format='fits')\n",
    "names = [name for name in df.colnames if len(df[name].shape) <= 1]\n",
    "dat = df[names].to_pandas()\n",
    "dat.head()"
   ]
  },
  {
   "cell_type": "code",
   "execution_count": 6,
   "id": "ef470aaf",
   "metadata": {},
   "outputs": [
    {
     "data": {
      "text/plain": [
       "(145946, 23)"
      ]
     },
     "execution_count": 6,
     "metadata": {},
     "output_type": "execute_result"
    }
   ],
   "source": [
    "dat.shape"
   ]
  },
  {
   "cell_type": "code",
   "execution_count": 12,
   "id": "42c60c9c",
   "metadata": {},
   "outputs": [
    {
     "data": {
      "text/plain": [
       "131607"
      ]
     },
     "execution_count": 12,
     "metadata": {},
     "output_type": "execute_result"
    }
   ],
   "source": [
    "(dat[\"SPECTRO\"].values==b\"b'BOSS'\").sum()"
   ]
  },
  {
   "cell_type": "markdown",
   "id": "2515f652",
   "metadata": {},
   "source": [
    "Compare how CIV distance compares for DR7 and DR14 spectra.  There seems to be a bias towards high EWs in our VLA sample -- maybe due to e.g. the S/N cutoff??"
   ]
  },
  {
   "cell_type": "code",
   "execution_count": 13,
   "id": "younger-grocery",
   "metadata": {},
   "outputs": [
    {
     "name": "stderr",
     "output_type": "stream",
     "text": [
      "/Users/trevormccaffrey/anaconda3/lib/python3.6/site-packages/ipykernel_launcher.py:4: RuntimeWarning: divide by zero encountered in log10\n",
      "  after removing the cwd from sys.path.\n",
      "/Users/trevormccaffrey/anaconda3/lib/python3.6/site-packages/ipykernel_launcher.py:4: RuntimeWarning: invalid value encountered in log10\n",
      "  after removing the cwd from sys.path.\n"
     ]
    }
   ],
   "source": [
    "z = dat[[\"z_paul\"]].values.flatten()\n",
    "blue = dat[[\"CIV_blue\"]].values.flatten()\n",
    "EW   = dat[[\"CIV_EW\"]].values.flatten()\n",
    "logEW= np.log10(EW)\n",
    "CIVdist = dat[\"CIV_Distance\"].values\n",
    "EW_HeII = dat[[\"HeII_EW\"]].values.flatten()\n",
    "D_GI = dat[[\"Delta_G_I\"]].values.flatten()\n",
    "good = dat[[\"good\"]].values.flatten()\n",
    "MI   = dat[[\"MI\"]].values.flatten()\n",
    "d    = 3.08e19 #cm\n",
    "L2500= -0.4 * ( MI + 48.60 + 2.5*np.log10(1.+2) ) + np.log10(4*np.pi*(d**2))\n",
    "sdss = dat[\"SPECTRO\"].values==b\"b'SDSS'\"\n",
    "boss = dat[\"SPECTRO\"].values==b\"b'BOSS'\""
   ]
  },
  {
   "cell_type": "code",
   "execution_count": 17,
   "id": "9714d815",
   "metadata": {},
   "outputs": [
    {
     "data": {
      "image/png": "[encoded data removed]",
      "text/plain": [
       "<Figure size 432x432 with 1 Axes>"
      ]
     },
     "metadata": {
      "needs_background": "light"
     },
     "output_type": "display_data"
    },
    {
     "name": "stdout",
     "output_type": "stream",
     "text": [
      "0.5744860440763391 0.5465460609066733\n"
     ]
    }
   ],
   "source": [
    "plt.figure(figsize=(6,6))\n",
    "plt.hist(CIVdist[sdss&good], alpha=0.5, density=True)\n",
    "plt.hist(CIVdist[boss&good], alpha=0.5, density=True)\n",
    "plt.show()\n",
    "\n",
    "print(np.mean(CIVdist[sdss&good]), np.mean(CIVdist[boss&good]))"
   ]
  },
  {
   "cell_type": "markdown",
   "id": "03506044",
   "metadata": {},
   "source": [
    "Maybe the difference isn't so big between DRs -- so maybe we should consider why the LOFAR sample looks the way it does?"
   ]
  },
  {
   "cell_type": "code",
   "execution_count": 21,
   "id": "e3577b66",
   "metadata": {},
   "outputs": [
    {
     "data": {
      "image/png": "[encoded data removed]",
      "text/plain": [
       "<Figure size 432x432 with 1 Axes>"
      ]
     },
     "metadata": {
      "needs_background": "light"
     },
     "output_type": "display_data"
    }
   ],
   "source": [
    "fig = plt.figure(figsize=(6,6))\n",
    "plt.scatter(CIVdist[good&(EW_HeII>0)], np.log10(EW_HeII[good&(EW_HeII>0)]))\n",
    "plt.xlabel(\"CIV Distance\")\n",
    "plt.ylabel(\"log HeII EW\")\n",
    "plt.show()"
   ]
  },
  {
   "cell_type": "markdown",
   "id": "797eff61",
   "metadata": {},
   "source": [
    "So there is no physical turnover in HeII EW."
   ]
  },
  {
   "cell_type": "code",
   "execution_count": null,
   "id": "5d7f66b7",
   "metadata": {},
   "outputs": [],
   "source": []
  }
 ],
 "metadata": {
  "kernelspec": {
   "display_name": "Python 3",
   "language": "python",
   "name": "python3"
  },
  "language_info": {
   "codemirror_mode": {
    "name": "ipython",
    "version": 3
   },
   "file_extension": ".py",
   "mimetype": "text/x-python",
   "name": "python",
   "nbconvert_exporter": "python",
   "pygments_lexer": "ipython3",
   "version": "3.6.10"
  }
 },
 "nbformat": 4,
 "nbformat_minor": 5
}
