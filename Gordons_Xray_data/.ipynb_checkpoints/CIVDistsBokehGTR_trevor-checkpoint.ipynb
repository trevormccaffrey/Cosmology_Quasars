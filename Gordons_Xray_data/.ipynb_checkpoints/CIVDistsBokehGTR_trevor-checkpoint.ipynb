{
 "cells": [
  {
   "cell_type": "code",
   "execution_count": 1,
   "metadata": {},
   "outputs": [],
   "source": [
    "#Import necessary packages:\n",
    "import numpy as np\n",
    "import matplotlib as mpl\n",
    "import matplotlib.cm as cm\n",
    "import matplotlib.pyplot as plt\n",
    "import pandas as pd\n",
    "import scipy\n",
    "import math\n",
    "from astropy.io import fits\n",
    "#import linmix\n",
    "#import corner"
   ]
  },
  {
   "cell_type": "code",
   "execution_count": 2,
   "metadata": {},
   "outputs": [
    {
     "name": "stdout",
     "output_type": "stream",
     "text": [
      "/Users/Trevor1/Desktop/git/Cosmology_Quasars/Gordons_Xray_data\r\n"
     ]
    }
   ],
   "source": [
    "!pwd"
   ]
  },
  {
   "cell_type": "code",
   "execution_count": 3,
   "metadata": {},
   "outputs": [],
   "source": [
    "import sys\n",
    "sys.path.append('/Users/Trevor1/Desktop/git/CIV_Distance')\n",
    "from CIVfunctions import project,CIV_distance\n",
    "\n",
    "\n",
    "#Best-fit line -- this part could be improved\n",
    "#bestfit = np.load(\"/Users/gtr/Work/git/CIV_Distance/data/RM_CIV_bestFitLine_noScale.npy\")[65000:,:]\n",
    "#bestfit = np.load(\"/Users/gtr/Work/git/CIV_Distance/data/bestfit_linear.npy\")[65000:,:]\n",
    "bestfit = np.load(\"/Users/Trevor1/Desktop/git/CIV_Distance/data/bestfit_linear.npy\")\n",
    "bestfit_log = np.load(\"/Users/Trevor1/Desktop/git/CIV_Distance/data/bestfit_log.npy\")"
   ]
  },
  {
   "cell_type": "code",
   "execution_count": 4,
   "metadata": {},
   "outputs": [],
   "source": [
    "from bokeh.io import output_notebook, output_file, show\n",
    "from bokeh.plotting import figure\n",
    "from bokeh.layouts import gridplot, column, row\n",
    "from bokeh.models import ColumnDataSource, LinearColorMapper, ColorBar, HoverTool\n",
    "from bokeh.transform import transform\n",
    "from bokeh.models.widgets import Tabs, Panel"
   ]
  },
  {
   "cell_type": "code",
   "execution_count": 5,
   "metadata": {},
   "outputs": [],
   "source": [
    "#%%matplotlib inline\n",
    "\n",
    "#Set color table:\n",
    "cmap_rainbow=cm.Spectral\n",
    "cmap_rainbow_r=cm.Spectral_r\n",
    "\n",
    "sizeTimlin = 60\n",
    "sizeChandra = 60\n",
    "sizeSDSSRM = 60\n",
    "sizeAll = 10\n",
    "\n",
    "markerTimlin='o'\n",
    "markerChandra='^'\n",
    "markerSDSSRM='*'\n",
    "markerAll = 'o'\n",
    "\n",
    "#In case this needs to be adjusted later:\n",
    "figsize_x=8\n",
    "figsize_y=8\n",
    "\n",
    "pheight = pwidth = 300\n",
    "gheight = gwidth = 8\n",
    "\n",
    "#Legend size\n",
    "lsize = '6pt'\n",
    "\n",
    "#Desired whitespace for plot limits\n",
    "whitespace=0.05\n",
    "\n",
    "c=2.998*10**5"
   ]
  },
  {
   "cell_type": "code",
   "execution_count": 6,
   "metadata": {},
   "outputs": [
    {
     "name": "stderr",
     "output_type": "stream",
     "text": [
      "/opt/anaconda3/lib/python3.8/_collections_abc.py:832: MatplotlibDeprecationWarning: Support for setting the 'text.latex.preamble' or 'pgf.preamble' rcParam to a list of strings is deprecated since 3.3 and will be removed two minor releases later; set it to a single string instead.\n",
      "  self[key] = other[key]\n"
     ]
    }
   ],
   "source": [
    "#Gordon's matplotlib defaults to keep from having to set them for every plot\n",
    "#and because simply importing richardsplot doesn't seem to work\n",
    "#Need something like this for Bokeh too.\n",
    "\n",
    "def figsze(hscale, vscale=0.618034, fig_width_pt = 504.0):\n",
    "    \"\"\"Get the fig_width_pt by inserting the textwidth into LaTeX document.\n",
    "    hscale is fraction of text width you want.\n",
    "    vscale is fraction of hscale (defaults to golden ratio)  \n",
    "    \"\"\"\n",
    "   \n",
    "    inches_per_pt = 1.0/72.27                       # Convert pt to inch\n",
    "    fig_width = fig_width_pt*inches_per_pt*hscale   # width in inches\n",
    "    fig_height = fig_width*vscale                   # height in inches\n",
    "    fig_size = [fig_width,fig_height]\n",
    "    return fig_size\n",
    "\n",
    "pgf_with_latex = {                      # setup matplotlib to use latex for output\n",
    "    \"axes.linewidth\":1.1,               # width of box, 2 is too wide, 1 is too narrow\n",
    "    \"pgf.texsystem\": \"pdflatex\",        # change this if using xetex or lautex\n",
    "    \"text.usetex\": False,                # use LaTeX to write all text\n",
    "    \"font.family\": \"serif\",\n",
    "    \"font.serif\": [],                   # blank entries should cause plots to inherit fonts from the document\n",
    "    \"font.sans-serif\": [],\n",
    "    \"font.monospace\": [],\n",
    "    \"axes.labelsize\": 20,               # LaTeX default is 10pt font, font size of axis text label\n",
    "    \"axes.labelpad\" : 6,                # Distance between label and axis    \n",
    "    \"axes.formatter.limits\":[-99,99],   # use sci notation if log10 of axis range is smaller than first or larger than second.\n",
    "                                        # GTR: Actually *don't* -- should change the axis label instead.  E.g., \"Flux Density (10^-17 ergs/s/cm^2)\" \n",
    "                                        # This is a hack b/c there doesn't seem to be an rcParams version of\n",
    "                                        # axes.ticklabel_format(style='plain')\n",
    "    #\"axes.formatter.style\":\"plain\",    # Turn off multiplicative offsets (sci notation) to the axes [GTR: Doesn't work]\n",
    "    \"axes.formatter.useoffset\":False,   # Turn off additive offsets to the axes\n",
    "    \"font.size\": 20,\n",
    "    \"legend.fontsize\": 18,              # Make the legend/label fonts a little smaller\n",
    "    \"xtick.labelsize\": 20,              # Font size of numbers \n",
    "    \"ytick.labelsize\": 20,\n",
    "    \"xtick.direction\": \"in\",\n",
    "    \"ytick.direction\": \"in\",\n",
    "    \"xtick.minor.visible\": True,\n",
    "    \"ytick.minor.visible\": True,\n",
    "    'xtick.major.width':1.0, \n",
    "    'xtick.minor.width':1.0, \n",
    "    'ytick.major.width':1.0, \n",
    "    'ytick.minor.width':1.0, \n",
    "    'xtick.major.size':8,             # size of tickmarks in points\n",
    "    'xtick.minor.size':4, \n",
    "    'ytick.major.size':8, \n",
    "    'ytick.minor.size':4,\n",
    "    'xtick.major.pad':8,               # distance between box and numbers\n",
    "    'ytick.major.pad':8,\n",
    "    \"figure.figsize\": figsze(1,1),     # default fig size of 0.9 textwidth\n",
    "    \"pgf.preamble\": [\n",
    "        r\"\\usepackage[utf8x]{inputenc}\",    # use utf8 fonts because your computer can handle it\n",
    "        r\"\\usepackage[T1]{fontenc}\",        # plots will be generated using this preamble\n",
    "        ]\n",
    "    }\n",
    "\n",
    "mpl.rcParams.update(pgf_with_latex)\n",
    "\n",
    "import palettable\n",
    "#csPRGn = palettable.colorbrewer.sequential.PRGn_8.mpl_colors\n",
    "csPRGn = ['#1b7837', '#5aae61', '#a6dba0', '#c2a5cf', '#9970ab', '#762a83']\n",
    "csPUOr = ['#b35806', '#e08214', '#fdb863', '#b2abd2', '#8073ac', '#542788'] \n",
    "#csDark = palettable.colorbrewer.sequential.PRGn_8.mpl_colors"
   ]
  },
  {
   "cell_type": "markdown",
   "metadata": {},
   "source": [
    "Let's read in the Timlin file with Amy Rankine's CIV values and merge that with the Shen+11 catalog file.\n",
    "\n",
    "Ideally we do this based on coordinates, but since we have SDSS Name in both we can use that instead since it is a bit easier (though could miss a few objects if the names were \"computed\" incorrectly)."
   ]
  },
  {
   "cell_type": "code",
   "execution_count": 7,
   "metadata": {},
   "outputs": [],
   "source": [
    "#Read in necessary data:\n",
    "#hduAllXray = fits.open('AllXRayDataSensCut.fits') \n",
    "\n",
    "#Use \"with\" syntax for better memory handling\n",
    "#with fits.open('./AllXRayDataSensCut.fits') as hduAllXray:\n",
    "#with fits.open('/home/angelica/Research/Paper3/AllXRayDataSensCut.fits') as hduAllXray:\n",
    "#    headerAllXray = hduAllXray[0].header\n",
    "#    dataAllXray = hduAllXray[1].data\n",
    "#    hduAllXray.close()\n",
    "    \n",
    "#with fits.open('/home/angelica/Research/Paper3/AllXRayParams_wPerpCIV.fits') as hduAllXray:    \n",
    "with fits.open('./AllXRayData.fits') as hduAllXray:\n",
    "    headerAllXray = hduAllXray[0].header\n",
    "    dataAllXray = hduAllXray[1].data\n",
    "    hduAllXray.close()\n",
    "\n",
    "dfAllXray=dataAllXray  \n",
    "    \n",
    "#Convert numpy arrays to Pandas dataframe\n",
    "#dfAllXray = pd.DataFrame(dataAllXray)\n",
    "\n",
    "#Fix the fact that some L2500 values are logged and others are not\n",
    "#dfAllXray.loc[dfAllXray.L2500>100, 'L2500'] = np.log10(dfAllXray.loc[dfAllXray.L2500>100, 'L2500'])\n",
    "\n",
    "#Fix the missing L/LEdd values\n",
    "#dfAllXray.loc[dfAllXray.LOGEDD_RATIO<-90, 'LOGEDD_RATIO'] = np.nan\n",
    "\n",
    "#Fix the missing HeII values\n",
    "#dfAllXray.loc[dfAllXray['HeII EQW']<=0, 'HeII EQW'] = np.nan\n",
    "\n",
    "#dfAllXray.head()"
   ]
  },
  {
   "cell_type": "code",
   "execution_count": 8,
   "metadata": {},
   "outputs": [
    {
     "name": "stdout",
     "output_type": "stream",
     "text": [
      "5682\n"
     ]
    }
   ],
   "source": [
    "print(len(dfAllXray))"
   ]
  },
  {
   "cell_type": "markdown",
   "metadata": {},
   "source": [
    "Make Blueshift plots with Bokeh\n",
    "\n",
    "There are 4 examples, each adding a level of complexity, so that it is somewhat easier to see what is happening.\n",
    "\n",
    "I'm sure that there is a way to reduce the number of lines of code by changing the defaults, but I haven't figured that out yet.\n",
    "\n",
    "Commented out the first 3 since they don't work with the new data file, but they are here for reference."
   ]
  },
  {
   "cell_type": "code",
   "execution_count": 9,
   "metadata": {},
   "outputs": [],
   "source": [
    "#Define the subsets.  These all will have separate legend entries\n",
    "\n",
    "mask1a = ((dfAllXray['Data_source']==1)&(dfAllXray['Clean']==True)) #Timlin+20; sensitive sample\n",
    "mask1b = ((dfAllXray['Data_source']==1)&(dfAllXray['Clean']==False)) #Timlin+20; remainder of sample\n",
    "mask2 = (dfAllXray['Data_source']==2) #Our HST/Chandra\n",
    "mask3 = (dfAllXray['Data_source']==3) #SDSS-RM\n",
    "mask4a = ((dfAllXray['Data_source']==4)&(dfAllXray['Clean']==True)) #Lusso+20; clean sample\n",
    "mask4b = ((dfAllXray['Data_source']==4)&(dfAllXray['Clean']==False)) #Lusso+20; remainder\n",
    "mask4c  = ((dfAllXray['Data_source']==4)&(dfAllXray['Nardini_Sample']==True)) #Nardini+19 (subset of Lusso+20)"
   ]
  },
  {
   "cell_type": "code",
   "execution_count": 10,
   "metadata": {},
   "outputs": [
    {
     "name": "stderr",
     "output_type": "stream",
     "text": [
      "<ipython-input-10-c6b234c8e9d9>:11: RuntimeWarning: invalid value encountered in log10\n",
      "  x3 = np.log10(dfAllXray['HeII EQW'])\n"
     ]
    }
   ],
   "source": [
    "#Example with Linked plots, Tabs, and Subsamples\n",
    "\n",
    "#y = dfAllXray['CIV Blueshift']\n",
    "Name = dfAllXray['SDSS']\n",
    "\n",
    "#y = np.log10(dfAllXray['CIV_EW'])\n",
    "\n",
    "x1 = dfAllXray['L2500']\n",
    "#x2 = dfAllXray['CIV EQW']\n",
    "x2 = dfAllXray['Delta_Alpha_ox']\n",
    "x3 = np.log10(dfAllXray['HeII EQW'])\n",
    "x4 = dfAllXray['Alpha_ox']\n",
    "x5 = dfAllXray['CIV_blue']\n",
    "x6 = dfAllXray['CIV_EW']\n",
    "logx6 = np.log10(dfAllXray['CIV_EW'])\n",
    "x7 = dfAllXray['Gamma']\n",
    "x8 = dfAllXray['LOGBH']  #Put this back in later\n",
    "x9 = dfAllXray['Delg-i']"
   ]
  },
  {
   "cell_type": "code",
   "execution_count": 11,
   "metadata": {},
   "outputs": [
    {
     "name": "stdout",
     "output_type": "stream",
     "text": [
      "-2585.612245627227 6166.797081979803 5.622421055642074 426.04393342206424\n"
     ]
    }
   ],
   "source": [
    "print(min(x5),max(x5),min(x6),max(x6))"
   ]
  },
  {
   "cell_type": "code",
   "execution_count": 12,
   "metadata": {},
   "outputs": [
    {
     "name": "stdout",
     "output_type": "stream",
     "text": [
      "Done linear\n",
      "Done log\n"
     ]
    }
   ],
   "source": [
    "#Compute CIV distance\n",
    "ew = x6\n",
    "logEW = logx6\n",
    "blue = x5\n",
    "\n",
    "c4data = np.array([blue, ew]).T\n",
    "c4dist = CIV_distance(c4data, bestfit, step=10) #compute CIV distances like this\n",
    "print(\"Done linear\")\n",
    "\n",
    "c4data_log = np.array([blue, logEW]).T\n",
    "c4dist_log = CIV_distance(c4data_log, bestfit_log, step=10)\n",
    "print(\"Done log\")"
   ]
  },
  {
   "cell_type": "code",
   "execution_count": 19,
   "metadata": {},
   "outputs": [],
   "source": [
    "#y = c4dist\n",
    "y = c4dist_log"
   ]
  },
  {
   "cell_type": "code",
   "execution_count": 20,
   "metadata": {},
   "outputs": [
    {
     "data": {
      "text/plain": [
       "(5682, 5682)"
      ]
     },
     "execution_count": 20,
     "metadata": {},
     "output_type": "execute_result"
    }
   ],
   "source": [
    "len(dfAllXray), len(c4dist_log)"
   ]
  },
  {
   "cell_type": "code",
   "execution_count": 21,
   "metadata": {},
   "outputs": [
    {
     "data": {
      "text/plain": [
       "[<matplotlib.lines.Line2D at 0x7fa3ca72d580>]"
      ]
     },
     "execution_count": 21,
     "metadata": {},
     "output_type": "execute_result"
    },
    {
     "data": {
      "image/png": "[encoded data removed]",
      "text/plain": [
       "<Figure size 502.117x502.117 with 1 Axes>"
      ]
     },
     "metadata": {
      "needs_background": "light"
     },
     "output_type": "display_data"
    }
   ],
   "source": [
    "plt.scatter(c4data[:,0], c4data[:,1])\n",
    "plt.plot(bestfit[:,0], bestfit[:,1], \"k\")"
   ]
  },
  {
   "cell_type": "code",
   "execution_count": 29,
   "metadata": {},
   "outputs": [],
   "source": [
    "from sklearn.preprocessing import scale\n",
    "\n",
    "linear = False\n",
    "if linear:\n",
    "    xscale = scale(np.concatenate((bestfit[:,0], blue))) #add ``good`` mask to lofar to remove \"bad\" reconstructions\n",
    "    yscale = scale(np.concatenate((bestfit[:,1], ew)))\n",
    "    bestfit_scale = np.array([xscale[0:len(bestfit)], yscale[0:len(bestfit)]]).T\n",
    "    data_scale = np.array([xscale[len(bestfit):len(bestfit)+len(blue)], yscale[len(bestfit):len(bestfit)+len(ew)]]).T\n",
    "else:\n",
    "    xscale = scale(np.concatenate((bestfit_log[:,0], blue))) #add ``good`` mask to lofar to remove \"bad\" reconstructions\n",
    "    yscale = scale(np.concatenate((bestfit_log[:,1], logEW)))\n",
    "    bestfit_scale = np.array([xscale[0:len(bestfit_log)], yscale[0:len(bestfit_log)]]).T\n",
    "    data_scale = np.array([xscale[len(bestfit_log):len(bestfit_log)+len(blue)], yscale[len(bestfit_log):len(bestfit_log)+len(logEW)]]).T"
   ]
  },
  {
   "cell_type": "code",
   "execution_count": 30,
   "metadata": {},
   "outputs": [
    {
     "data": {
      "image/png": "[encoded data removed]",
      "text/plain": [
       "<Figure size 502.117x502.117 with 1 Axes>"
      ]
     },
     "metadata": {
      "needs_background": "light"
     },
     "output_type": "display_data"
    }
   ],
   "source": [
    "plt.scatter(data_scale[:,0], data_scale[:,1])\n",
    "plt.plot(bestfit_scale[:,0], bestfit_scale[:,1], \"k\")\n",
    "plt.gca().set_aspect(\"equal\")"
   ]
  },
  {
   "cell_type": "code",
   "execution_count": 31,
   "metadata": {},
   "outputs": [
    {
     "name": "stdout",
     "output_type": "stream",
     "text": [
      "5682\n"
     ]
    }
   ],
   "source": [
    "print(len(x8))"
   ]
  },
  {
   "cell_type": "code",
   "execution_count": 23,
   "metadata": {},
   "outputs": [],
   "source": [
    "#dfAllXray['RMID_1'] = '000'\n",
    "\n",
    "sizeAll=3\n",
    "\n",
    "#xmin=np.nanmin(x)\n",
    "#xmax=np.nanmax(x)\n",
    "#xrange=xmax-xmin\n",
    "#xlims=[xmin-whitespace*xrange,xmax+whitespace*xrange]\n",
    "\n",
    "#ymin=np.nanmin(y)\n",
    "#ymax=np.nanmax(y)\n",
    "#yrange=ymax-ymin\n",
    "#ylims=[ymin-whitespace*yrange,ymax+whitespace*yrange]\n",
    "\n",
    "# create a column data source for the plots to share\n",
    "source1a = ColumnDataSource(data=dict(y=y[mask1a], x1=x1[mask1a], x2=x2[mask1a], x3=x3[mask1a], x4=x4[mask1a], \\\n",
    "                                     x5=x5[mask1a], x6=x6[mask1a], logx6=logx6[mask1a], x7=x7[mask1a], x8=x8[mask1a], x9=x9[mask1a],\\\n",
    "                                    z=dfAllXray['Redshifts'][mask1a]))\n",
    "\n",
    "source1b = ColumnDataSource(data=dict(y=y[mask1b], x1=x1[mask1b], x2=x2[mask1b], x3=x3[mask1b], x4=x4[mask1b], \\\n",
    "                                     x5=x5[mask1b], x6=x6[mask1b], logx6=logx6[mask1b], x7=x7[mask1b], x8=x8[mask1b], x9=x9[mask1b],\\\n",
    "                                    z=dfAllXray['Redshifts'][mask1b]))\n",
    "\n",
    "source2 = ColumnDataSource(data=dict(y=y[mask2], x1=x1[mask2], x2=x2[mask2], x3=x3[mask2], x4=x4[mask2], \\\n",
    "                                     x5=x5[mask2], x6=x6[mask2], logx6=logx6[mask2], x7=x7[mask2], x8=x8[mask2], x9=x9[mask2],\\\n",
    "                                    z=dfAllXray['Redshifts'][mask2]))\n",
    "\n",
    "source3 = ColumnDataSource(data=dict(y=y[mask3], x1=x1[mask3], x2=x2[mask3], x3=x3[mask3], x4=x4[mask3], \\\n",
    "                                     x5=x5[mask3], x6=x6[mask3], logx6=logx6[mask3], x7=x7[mask3], x8=x8[mask3], x9=x9[mask3],\\\n",
    "                                    z=dfAllXray['Redshifts'][mask3]))\n",
    "\n",
    "source4a = ColumnDataSource(data=dict(y=y[mask4a], x1=x1[mask4a], x2=x2[mask4a], x3=x3[mask4a], x4=x4[mask4a], \\\n",
    "                                     x5=x5[mask4a], x6=x6[mask4a], logx6=logx6[mask4a], x7=x7[mask4a], x8=x8[mask4a], x9=x9[mask4a],\\\n",
    "                                    z=dfAllXray['Redshifts'][mask4a]))\n",
    "\n",
    "source4b = ColumnDataSource(data=dict(y=y[mask4b], x1=x1[mask4b], x2=x2[mask4b], x3=x3[mask4b], x4=x4[mask4b], \\\n",
    "                                     x5=x5[mask4b], x6=x6[mask4b], logx6=logx6[mask4b], x7=x7[mask4b], x8=x8[mask4b], x9=x9[mask4b],\\\n",
    "                                    z=dfAllXray['Redshifts'][mask4b]))\n",
    "\n",
    "source4c = ColumnDataSource(data=dict(y=y[mask4c], x1=x1[mask4c], x2=x2[mask4c], x3=x3[mask4c], x4=x4[mask4c], \\\n",
    "                                     x5=x5[mask4c], x6=x6[mask4c], logx6=logx6[mask4c], x7=x7[mask4c], x8=x8[mask4c], x9=x9[mask4c],\\\n",
    "                                    z=dfAllXray['Redshifts'][mask4c]))\n",
    "\n",
    "TOOLS = \"box_select,lasso_select,pan,wheel_zoom,box_zoom,hover,reset,help\"\n",
    "\n",
    "#TOOLTIPS=[\n",
    "#            ('RMID', '@RMID'),\n",
    "#            ('z', '@z')\n",
    "#            ]\n",
    "\n",
    "TOOLTIPS=[\n",
    "            ('SDSS', '@Name'),\n",
    "            ('z', '@z')\n",
    "            ]\n",
    "\n",
    "color_mapper = LinearColorMapper(palette=\"Viridis256\", low=x1.min(), high=x1.max())\n",
    "color_bar = ColorBar(color_mapper=color_mapper, label_standoff=12, location=(0,0), title='L2500')"
   ]
  },
  {
   "cell_type": "code",
   "execution_count": 24,
   "metadata": {},
   "outputs": [],
   "source": [
    "#legend_label=\"Sample3\",\n",
    "\n",
    "# create a new plot\n",
    "p1 = figure(width=pwidth, plot_height=pheight, tools=TOOLS, tooltips=TOOLTIPS)#, y_range=(-1500,6500))\n",
    "p1.circle('x5', 'y', source=source1a, legend_label='Timlin Sensitive', size=sizeAll, color=\"navy\", alpha=0.5, selection_color=\"orange\")\n",
    "p1.circle('x5', 'y', source=source1b, legend_label='Timlin Other', size=sizeAll, color=\"navy\", alpha=0.5, selection_color=\"orange\")\n",
    "p1.circle('x5', 'y', source=source4a, legend_label='Lusso Clean', size=sizeAll, color=\"navy\", alpha=0.5, selection_color=\"orange\")\n",
    "p1.circle('x5', 'y', source=source4b, legend_label='Lusso Other', size=sizeAll, color=\"navy\", alpha=0.5, selection_color=\"orange\")\n",
    "p1.circle('x5', 'y', source=source2, legend_label='SDSSRM', size=sizeAll, color=\"navy\", alpha=0.5, selection_color=\"orange\")\n",
    "p1.circle('x5', 'y', source=source3, legend_label='Chandra/HST', size=sizeAll, color=\"navy\", alpha=0.5, selection_color=\"orange\")\n",
    "p1.circle('x5', 'y', source=source4c, legend_label='Nardini', size=sizeAll, color=\"navy\", alpha=0.5, selection_color=\"orange\")\n",
    "p1.yaxis.axis_label = 'CIV Distance'\n",
    "p1.xaxis.axis_label = 'Blueshift'\n",
    "p1.legend.click_policy=\"hide\"\n",
    "p1.legend.label_text_font_size = lsize\n",
    "p1.legend.glyph_height = gheight\n",
    "p1.legend.location = 'top_left'\n",
    "p1.legend.spacing = 1\n",
    "\n",
    "p2 = figure(width=pwidth, plot_height=pheight, tools=TOOLS, tooltips=TOOLTIPS)#, y_range=(-1500,6500))\n",
    "p2.circle('x6', 'y', source=source1a, legend_label='Timlin Sensitive', size=sizeAll, color=\"navy\", alpha=0.5, selection_color=\"orange\")\n",
    "p2.circle('x6', 'y', source=source1b, legend_label='Timlin Other', size=sizeAll, color=\"navy\", alpha=0.5, selection_color=\"orange\")\n",
    "p2.circle('x6', 'y', source=source4a, legend_label='Lusso Clean', size=sizeAll, color=\"navy\", alpha=0.5, selection_color=\"orange\")\n",
    "p2.circle('x6', 'y', source=source4b, legend_label='Lusso Other', size=sizeAll, color=\"navy\", alpha=0.5, selection_color=\"orange\")\n",
    "p2.circle('x6', 'y', source=source2, legend_label='SDSSRM', size=sizeAll, color=\"navy\", alpha=0.5, selection_color=\"orange\")\n",
    "p2.circle('x6', 'y', source=source3, legend_label='Chandra/HST', size=sizeAll, color=\"navy\", alpha=0.5, selection_color=\"orange\")\n",
    "p2.circle('x6', 'y', source=source4c, legend_label='Nardini', size=sizeAll, color=\"navy\", alpha=0.5, selection_color=\"orange\")\n",
    "p2.yaxis.axis_label = 'CIV Distance'\n",
    "p2.xaxis.axis_label = 'log(CIV EQW)'\n",
    "p2.legend.click_policy=\"hide\"\n",
    "p2.legend.label_text_font_size = lsize\n",
    "p2.legend.glyph_height = gheight\n",
    "p2.legend.location = 'top_right'\n",
    "p2.legend.spacing = 1\n",
    "\n",
    "p3 = figure(width=pwidth, plot_height=pheight, tools=TOOLS, tooltips=TOOLTIPS)#, y_range=(-1500,6500))\n",
    "p3.circle('x3', 'y', source=source1a, legend_label='Timlin Sensitive', size=sizeAll, color=\"navy\", alpha=0.5, selection_color=\"orange\")\n",
    "p3.circle('x3', 'y', source=source1b, legend_label='Timlin Other', size=sizeAll, color=\"navy\", alpha=0.5, selection_color=\"orange\")\n",
    "p3.circle('x3', 'y', source=source4a, legend_label='Lusso Clean', size=sizeAll, color=\"navy\", alpha=0.5, selection_color=\"orange\")\n",
    "p3.circle('x3', 'y', source=source4b, legend_label='Lusso Other', size=sizeAll, color=\"navy\", alpha=0.5, selection_color=\"orange\")\n",
    "p3.circle('x3', 'y', source=source2, legend_label='SDSSRM', size=sizeAll, color=\"navy\", alpha=0.5, selection_color=\"orange\")\n",
    "p3.circle('x3', 'y', source=source3, legend_label='Chandra/HST', size=sizeAll, color=\"navy\", alpha=0.5, selection_color=\"orange\")\n",
    "p3.circle('x3', 'y', source=source4c, legend_label='Nardini', size=sizeAll, color=\"navy\", alpha=0.5, selection_color=\"orange\")\n",
    "p3.yaxis.axis_label = 'CIV Distance'\n",
    "p3.xaxis.axis_label = 'log(HeII EQW)'\n",
    "p3.legend.click_policy=\"hide\"\n",
    "p3.legend.label_text_font_size = lsize\n",
    "p3.legend.glyph_height = gheight\n",
    "p3.legend.location = 'top_right'\n",
    "p3.legend.spacing = 1\n",
    "\n",
    "#selection_glyph = Circle(fill_color='orange', line_color=None)\n",
    "#nonselection_glyph = Circle(fill_color='#1f77b4', fill_alpha=0.1, line_color=None)\n",
    "#r1.selection_glyph = selection_glyph\n",
    "#r1.nonselection_glyph = nonselection_glyph\n",
    "\n",
    "\n",
    "\n",
    "p4 = figure(width=pwidth, plot_height=pheight, tools=TOOLS, tooltips=TOOLTIPS, y_range=(29,33))#, x_range=(0.5, -0.5), y_range=(-1500,6500))\n",
    "p4.circle('y', 'x1', source=source1a, legend_label='Timlin Sensitive', size=sizeAll, color=\"navy\", alpha=0.5, selection_color=\"orange\")\n",
    "p4.circle('y', 'x1', source=source1b, legend_label='Timlin Other', size=sizeAll, color=\"navy\", alpha=0.5, selection_color=\"orange\")\n",
    "p4.circle('y', 'x1', source=source4a, legend_label='Lusso Clean', size=sizeAll, color=\"navy\", alpha=0.5, selection_color=\"orange\")\n",
    "p4.circle('y', 'x1', source=source4b, legend_label='Lusso Other', size=sizeAll, color=\"navy\", alpha=0.5, selection_color=\"orange\")\n",
    "p4.circle('y', 'x1', source=source2, legend_label='SDSSRM', size=sizeAll, color=\"navy\", alpha=0.5, selection_color=\"orange\")\n",
    "p4.circle('y', 'x1', source=source3, legend_label='Chandra/HST', size=sizeAll, color=\"navy\", alpha=0.5, selection_color=\"orange\")\n",
    "p4.circle('y', 'x1', source=source4c, legend_label='Nardini', size=sizeAll, color=\"navy\", alpha=0.5, selection_color=\"orange\")\n",
    "p4.xaxis.axis_label = 'CIV Distance'\n",
    "p4.yaxis.axis_label = 'L_{2500}'\n",
    "#p6.x_range.flipped = True\n",
    "p4.legend.click_policy=\"hide\"\n",
    "p4.legend.label_text_font_size = \"6pt\"\n",
    "p4.legend.glyph_height = gheight\n",
    "p4.legend.location = 'top_left'\n",
    "p4.legend.spacing = 1\n",
    "\n",
    "p5 = figure(width=pwidth, plot_height=pheight, tools=TOOLS, tooltips=TOOLTIPS, y_range=(29,33))# x_range=(-2.3,-0.9))#, y_range=(-1500,6500))\n",
    "p5.circle('x5', 'x1', source=source1a, legend_label='Timlin Sensitive', size=sizeAll, color=\"navy\", alpha=0.5, selection_color=\"orange\")\n",
    "p5.circle('x5', 'x1', source=source1b, legend_label='Timlin Other', size=sizeAll, color=\"navy\", alpha=0.5, selection_color=\"orange\")\n",
    "p5.circle('x5', 'x1', source=source4a, legend_label='Lusso Clean', size=sizeAll, color=\"navy\", alpha=0.5, selection_color=\"orange\")\n",
    "p5.circle('x5', 'x1', source=source4b, legend_label='Lusso Other', size=sizeAll, color=\"navy\", alpha=0.5, selection_color=\"orange\")\n",
    "p5.circle('x5', 'x1', source=source2, legend_label='SDSSRM', size=sizeAll, color=\"navy\", alpha=0.5, selection_color=\"orange\")\n",
    "p5.circle('x5', 'x1', source=source3, legend_label='Chandra/HST', size=sizeAll, color=\"navy\", alpha=0.5, selection_color=\"orange\")\n",
    "p5.circle('x5', 'x1', source=source4c, legend_label='Nardini', size=sizeAll, color=\"navy\", alpha=0.5, selection_color=\"orange\")\n",
    "p5.xaxis.axis_label = 'CIV Blueshift'\n",
    "p5.yaxis.axis_label = 'L_{2500}'\n",
    "#p5.x_range.flipped = True\n",
    "p5.legend.click_policy=\"hide\"\n",
    "p5.legend.label_text_font_size = \"6pt\"\n",
    "p5.legend.glyph_height = gheight\n",
    "p5.legend.location = 'top_left'\n",
    "p5.legend.spacing = 1\n",
    "\n",
    "p6 = figure(width=pwidth, plot_height=pheight, tools=TOOLS, tooltips=TOOLTIPS, y_range=(29,33))#, x_range=(0.5, -0.7))#, y_range=(-1500,6500))\n",
    "p6.circle('x6', 'x1', source=source1a, legend_label='Timlin Sensitive', size=sizeAll, color=\"navy\", alpha=0.5, selection_color=\"orange\")\n",
    "p6.circle('x6', 'x1', source=source1b, legend_label='Timlin Other', size=sizeAll, color=\"navy\", alpha=0.5, selection_color=\"orange\")\n",
    "p6.circle('x6', 'x1', source=source4a, legend_label='Lusso Clean', size=sizeAll, color=\"navy\", alpha=0.5, selection_color=\"orange\")\n",
    "p6.circle('x6', 'x1', source=source4b, legend_label='Lusso Other', size=sizeAll, color=\"navy\", alpha=0.5, selection_color=\"orange\")\n",
    "p6.circle('x6', 'x1', source=source2, legend_label='SDSSRM', size=sizeAll, color=\"navy\", alpha=0.5, selection_color=\"orange\")\n",
    "p6.circle('x6', 'x1', source=source3, legend_label='Chandra/HST', size=sizeAll, color=\"navy\", alpha=0.5, selection_color=\"orange\")\n",
    "p6.circle('x6', 'x1', source=source4c, legend_label='Nardini', size=sizeAll, color=\"navy\", alpha=0.5, selection_color=\"orange\")\n",
    "p6.xaxis.axis_label = 'CIV EW'\n",
    "p6.yaxis.axis_label = 'L_{2500}'\n",
    "#p5.x_range.flipped = True\n",
    "p6.legend.click_policy=\"hide\"\n",
    "p6.legend.label_text_font_size = \"6pt\"\n",
    "p6.legend.glyph_height = gheight\n",
    "p6.legend.location = 'top_right'\n",
    "p6.legend.spacing = 1\n",
    "\n",
    "\n",
    "p7 = figure(width=pwidth, plot_height=pheight, tools=TOOLS, tooltips=TOOLTIPS)#, y_range=(-1500,6500))\n",
    "p7.circle('x6', 'x3', source=source1a, legend_label='Timlin', size=sizeAll, color=\"navy\", alpha=0.5, selection_color=\"orange\")\n",
    "p7.circle('x6', 'x3', source=source2, legend_label='SDSSRM', size=sizeAll, color=\"navy\", alpha=0.5, selection_color=\"orange\")\n",
    "#p7.circle('x7', 'x3', source=source3, legend='Chandra/HST', size=sizeAll, color=\"navy\", alpha=0.5, selection_color=\"orange\")\n",
    "p7.xaxis.axis_label = 'CIV Dist'\n",
    "p7.yaxis.axis_label = 'log(HeII)'\n",
    "p7.legend.click_policy=\"hide\"\n",
    "p7.legend.label_text_font_size = \"6pt\"\n",
    "p7.legend.glyph_height = gheight\n",
    "\n",
    "p8 = figure(width=pwidth, plot_height=pheight, tools=TOOLS, tooltips=TOOLTIPS)#, x_range=(-1.7, 0.6))#, y_range=(-1500,6500))\n",
    "p8.circle('y', 'x8', source=source1a, legend_label='Timlin', size=sizeAll, color=\"navy\", alpha=0.5, selection_color=\"orange\")\n",
    "p8.circle('y', 'x8', source=source2, legend_label='SDSSRM', size=sizeAll, color=\"navy\", alpha=0.5, selection_color=\"orange\")\n",
    "#p8.circle('x2', 'x3', source=source3, legend='Chandra/HST', size=sizeAll, color=\"navy\", alpha=0.5, selection_color=\"orange\")\n",
    "p8.xaxis.axis_label = 'CIV EQW'\n",
    "p8.yaxis.axis_label = 'CIV Perp Dist'\n",
    "p8.legend.click_policy=\"hide\"\n",
    "p8.legend.label_text_font_size = \"6pt\"\n",
    "p8.legend.glyph_height = gheight\n",
    "\n",
    "# create a new plot for 2nd tab\n",
    "p9 = figure(width=pwidth, plot_height=pheight, tools=TOOLS, tooltips=TOOLTIPS)#, x_range=(230,-1))#, y_range=(29.2,32.5))\n",
    "p9.circle('x4', 'x1', source=source1a, legend_label='Timlin', size=sizeAll, color=\"navy\", alpha=0.5, selection_color=\"orange\")\n",
    "p9.circle('x4', 'x1', source=source2, legend_label='SDSSRM', size=sizeAll, color=\"navy\", alpha=0.5, selection_color=\"orange\")\n",
    "#p9.circle('x4', 'x1', source=source3, legend='Chandra/HST', size=sizeAll, color=\"navy\", alpha=0.5, selection_color=\"orange\")\n",
    "p9.xaxis.axis_label = 'alpha_ox'\n",
    "p9.yaxis.axis_label = 'L_2500'\n",
    "p9.legend.click_policy=\"hide\"\n",
    "p9.legend.label_text_font_size = \"6pt\"\n",
    "p9.legend.glyph_height = gheight\n",
    "p9.legend.location = 'top_left'\n",
    "\n",
    "p10 = figure(width=pwidth, plot_height=pheight, tools=TOOLS, tooltips=TOOLTIPS)#, x_range=(-2.3,-0.9))#, y_range=(29.2,32.5))\n",
    "p10.circle('x5', 'logx6', source=source1a, legend_label='Timlin Sensitive', size=sizeAll, color=\"navy\", alpha=0.5, selection_color=\"orange\")\n",
    "p10.circle('x5', 'logx6', source=source1b, legend_label='Timlin Other', size=sizeAll, color=\"navy\", alpha=0.5, selection_color=\"orange\")\n",
    "p10.circle('x5', 'logx6', source=source4a, legend_label='Lusso Clean', size=sizeAll, color=\"navy\", alpha=0.5, selection_color=\"orange\")\n",
    "p10.circle('x5', 'logx6', source=source4b, legend_label='Lusso Other', size=sizeAll, color=\"navy\", alpha=0.5, selection_color=\"orange\")\n",
    "p10.circle('x5', 'logx6', source=source2, legend_label='SDSSRM', size=sizeAll, color=\"navy\", alpha=0.5, selection_color=\"orange\")\n",
    "p10.circle('x5', 'logx6', source=source3, legend_label='Chandra/HST', size=sizeAll, color=\"navy\", alpha=0.5, selection_color=\"orange\")\n",
    "p10.circle('x5', 'logx6', source=source4c, legend_label='Nardini', size=sizeAll, color=\"navy\", alpha=0.5, selection_color=\"orange\")\n",
    "#p10.circle('x5', 'y', source=source3, legend='Chandra/HST', size=sizeAll, color=\"navy\", alpha=0.5, selection_color=\"orange\")\n",
    "p10.xaxis.axis_label = 'CIV Blueshift'\n",
    "p10.yaxis.axis_label = 'log(CIV EQW)'\n",
    "p10.legend.click_policy=\"hide\"\n",
    "p10.legend.label_text_font_size = \"6pt\"\n",
    "p10.legend.glyph_height = gheight\n",
    "\n",
    "# put all the plots in a gridplot\n",
    "p = gridplot([[p1, p2, p3], [p4, p5, p6], [p10, p7, p8] ], sizing_mode='scale_width')\n",
    "\n",
    "tab1 = Panel(child = p, title = 'Tab One')\n",
    "\n",
    "\n",
    "\n",
    "\n",
    "\n",
    "p11 = figure(width=pwidth, plot_height=pheight, tools=TOOLS, tooltips=TOOLTIPS)#, x_range=(0.5, -0.5))#, y_range=(29.2,32.5))\n",
    "p11.circle('x5', 'x3', source=source1a, legend_label='Timlin', size=sizeAll, color=\"navy\", alpha=0.5, selection_color=\"orange\")\n",
    "p11.circle('x5', 'x3', source=source2, legend_label='SDSSRM', size=sizeAll, color=\"navy\", alpha=0.5, selection_color=\"orange\")\n",
    "#p11.circle('x5', 'x3', source=source3, legend='Chandra/HST', size=sizeAll, color=\"navy\", alpha=0.5, selection_color=\"orange\")\n",
    "p11.xaxis.axis_label = 'CIV Blueshift)'\n",
    "p11.yaxis.axis_label = 'log(He II EQW)'\n",
    "p11.legend.click_policy=\"hide\"\n",
    "p11.legend.label_text_font_size = \"6pt\"\n",
    "p11.legend.glyph_height = gheight\n",
    " \n",
    "p12 = figure(width=pwidth, plot_height=pheight, tools=TOOLS, tooltips=TOOLTIPS)#, x_range=(-1.7, 0.6))#, y_range=(29.2,32.5))\n",
    "p12.circle('x2', 'x7', source=source1a,legend_label='Timlin', size=sizeAll, color=\"navy\", alpha=0.5, selection_color=\"orange\")\n",
    "p12.circle('x2', 'x7', source=source2, legend_label='SDSSRM', size=sizeAll, color=\"navy\", alpha=0.5, selection_color=\"orange\")\n",
    "#p12.circle('x2', 'x7', source=source3, legend='Chandra/HST', size=sizeAll, color=\"navy\", alpha=0.5, selection_color=\"orange\")\n",
    "p12.xaxis.axis_label = 'Delta_alpha_ox'\n",
    "p12.yaxis.axis_label = 'Gamma'\n",
    "p12.legend.click_policy=\"hide\"\n",
    "p12.legend.label_text_font_size = \"6pt\"\n",
    "p12.legend.glyph_height = gheight\n",
    "p12.legend.location = 'top_left'\n",
    "\n",
    "\n",
    "tab2 = Panel(child = row(p9,p10,p11,p12), title = 'Tab Two')\n",
    "\n",
    "#Feed the tabs into a Tabs object\n",
    "\n",
    "ptabs = Tabs(tabs = [tab1, tab2])\n",
    "\n",
    "output_file('CIVDistBokehGTR.html')\n",
    "\n",
    "# show the results\n",
    "show(ptabs)"
   ]
  },
  {
   "cell_type": "raw",
   "metadata": {},
   "source": [
    "p2 = figure(width=pwidth, plot_height=pheight, tools=TOOLS, tooltips=TOOLTIPS)#, x_range=(10, -0.2))#, y_range=(-1500,6500))\n",
    "p2.circle('y','x3', source=source1a, legend_label='Timlin', size=sizeAll, color=\"navy\", alpha=0.5, selection_color=\"orange\")\n",
    "p2.circle('y', 'x3', source=source2, legend_label='SDSSRM', size=sizeAll, color=\"navy\", alpha=0.5, selection_color=\"orange\")\n",
    "#p2.circle('y', 'x3',source=source3, legend_label='Chandra/HST', size=sizeAll, color=\"navy\", alpha=0.5, selection_color=\"orange\")\n",
    "p2.xaxis.axis_label = 'log(CIV EQW)'\n",
    "p2.yaxis.axis_label = 'log(He II EQW)'\n",
    "#p3.x_range.flipped = True\n",
    "p2.legend.click_policy=\"hide\"\n",
    "p2.legend.label_text_font_size = \"6pt\"\n",
    "p2.legend.glyph_height = gheight\n",
    "p2.legend.location = 'top_left'\n",
    "\n",
    "p3 = figure(width=pwidth, plot_height=pheight, tools=TOOLS, tooltips=TOOLTIPS)#, x_range=(230, -1))#, y_range=(-1500,6500))\n",
    "p3.circle('x5', 'x4', source=source1a, legend_label='Timlin', size=sizeAll, color=\"navy\", alpha=0.5, selection_color=\"orange\")\n",
    "p3.circle('x5', 'x4', source=source2, legend_label='SDSSRM', size=sizeAll, color=\"navy\", alpha=0.5, selection_color=\"orange\")\n",
    "#p3.circle('x5', 'x4', source=source3, legend_label='Chandra/HST', size=sizeAll, color=\"navy\", alpha=0.5, selection_color=\"orange\")\n",
    "p3.xaxis.axis_label = 'CIV Blueshift'\n",
    "p3.yaxis.axis_label = 'Alpha_ox'\n",
    "#p2.x_range.flipped = True\n",
    "p3.legend.click_policy=\"hide\"\n",
    "p3.legend.label_text_font_size = \"6pt\"\n",
    "p3.legend.glyph_height = gheight\n",
    "p3.legend.location = 'top_left'"
   ]
  },
  {
   "cell_type": "code",
   "execution_count": null,
   "metadata": {},
   "outputs": [],
   "source": []
  }
 ],
 "metadata": {
  "kernelspec": {
   "display_name": "Python 3",
   "language": "python",
   "name": "python3"
  },
  "language_info": {
   "codemirror_mode": {
    "name": "ipython",
    "version": 3
   },
   "file_extension": ".py",
   "mimetype": "text/x-python",
   "name": "python",
   "nbconvert_exporter": "python",
   "pygments_lexer": "ipython3",
   "version": "3.8.8"
  }
 },
 "nbformat": 4,
 "nbformat_minor": 2
}
